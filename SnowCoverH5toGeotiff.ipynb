{
 "cells": [
  {
   "cell_type": "code",
   "execution_count": 1,
   "metadata": {},
   "outputs": [],
   "source": [
    "import glob\n",
    "import os\n",
    "from osgeo import gdal, osr\n",
    "import numpy as np\n",
    "import pandas as pd\n",
    "import rasterio\n",
    "from rasterio.plot import show"
   ]
  },
  {
   "cell_type": "code",
   "execution_count": 2,
   "metadata": {},
   "outputs": [
    {
     "data": {
      "text/plain": [
       "['Sierra2001.h5',\n",
       " 'Sierra2002.h5',\n",
       " 'Sierra2003.h5',\n",
       " 'Sierra2004.h5',\n",
       " 'Sierra2005.h5',\n",
       " 'Sierra2006.h5',\n",
       " 'Sierra2007.h5',\n",
       " 'Sierra2008.h5',\n",
       " 'Sierra2009.h5',\n",
       " 'Sierra2010.h5',\n",
       " 'Sierra2011.h5',\n",
       " 'Sierra2012.h5',\n",
       " 'Sierra2013.h5',\n",
       " 'Sierra2014.h5',\n",
       " 'Sierra2015.h5',\n",
       " 'Sierra2016.h5',\n",
       " 'Sierra2017.h5',\n",
       " 'Sierra2018.h5',\n",
       " 'Sierra2019.h5']"
      ]
     },
     "execution_count": 2,
     "metadata": {},
     "output_type": "execute_result"
    }
   ],
   "source": [
    "# H5 Sierra Fraction Data Downloaded from here: https://snow.ucsb.edu/products/SPIRES/Sierra/\n",
    "# Glob together all of the Snow Fraction datasets.\n",
    "snow_ds = glob.glob('*.h5')\n",
    "snow_ds"
   ]
  },
  {
   "cell_type": "code",
   "execution_count": 17,
   "metadata": {},
   "outputs": [],
   "source": [
    "# Get subdatasets of first snow fraction dataset ('Sierra2001.h5').\n",
    "datasets = gdal.Open(snow_ds[0], gdal.GA_ReadOnly).GetSubDatasets()\n",
    "\n",
    "#(sds[3] is to choose the 4th dataset in the subdirectory (i.e., snow fraction). \n",
    "#The second bracket [0] is needed to open the dataset.\n",
    "snow_data = gdal.Open(datasets[3][0])\n",
    "\n",
    "#Changes the selected dataset into an array.\n",
    "snow_data_array = snow_data.ReadAsArray()\n",
    "\n",
    "#Converts the variables to 'float' to allow us to convert NA values (255) to nans\n",
    "#We also convert 0s to nans so that when plotted on base map, only areas where data is present are shown\n",
    "snow_data_float=snow_data_array.astype('float')\n",
    "snow_data_float[snow_data_float == 255] = np.nan\n",
    "# Review whether to make snow 0 or na \n",
    "snow_data_float[snow_data_float == 0] = np.nan\n",
    "snow_data_transposed = np.transpose(snow_data_float)\n",
    "\n",
    "#Sample data \n",
    "snow_data_subset = snow_data_transposed[:,:,160]\n",
    "snow_data_permuted = np.transpose(snow_data_float, (0, 2, 1))"
   ]
  },
  {
   "cell_type": "code",
   "execution_count": 18,
   "metadata": {},
   "outputs": [],
   "source": [
    "# x dimension of array\n",
    "xdim = snow_data_array.shape[1]\n",
    "# y dimension of array\n",
    "ydim = snow_data_array.shape[2]\n",
    "# Projection data of sample GeoTiff\n",
    "projection = 'PROJCS[\"Albers Conical Equal Area\",GEOGCS[\"WGS 84\",DATUM[\"WGS_1984\",SPHEROID[\"WGS 84\",6378137,298.257223563,AUTHORITY[\"EPSG\",\"7030\"]],AUTHORITY[\"EPSG\",\"6326\"]],PRIMEM[\"Greenwich\",0],UNIT[\"degree\",0.0174532925199433,AUTHORITY[\"EPSG\",\"9122\"]],AUTHORITY[\"EPSG\",\"4326\"]],PROJECTION[\"Albers_Conic_Equal_Area\"],PARAMETER[\"latitude_of_center\",0],PARAMETER[\"longitude_of_center\",-120],PARAMETER[\"standard_parallel_1\",34],PARAMETER[\"standard_parallel_2\",40.5],PARAMETER[\"false_easting\",0],PARAMETER[\"false_northing\",-4000000],UNIT[\"meters\",1],AXIS[\"Easting\",EAST],AXIS[\"Northing\",NORTH]]'\n",
    "# transformation data of array\n",
    "# Pull refrencing matrix from h5 file.\n",
    "ref_matrix_meta = snow_data.GetMetadata()['Grid_MODIS_GRID_500m_ReferencingMatrix'].split()\n",
    "referencing_matrix = [int(ref_matrix_meta[2]), int(ref_matrix_meta[1]), int(ref_matrix_meta[0]), int(ref_matrix_meta[5]), int(ref_matrix_meta[4]), int(ref_matrix_meta[3])]"
   ]
  },
  {
   "cell_type": "markdown",
   "metadata": {},
   "source": [
    "## Convert Single Single H5 Layer to Geotiff"
   ]
  },
  {
   "cell_type": "code",
   "execution_count": 7,
   "metadata": {},
   "outputs": [],
   "source": [
    "def SingleGeotiff(raster_name, data, height, width, geotransform, wkt):\n",
    "    \n",
    "    driver = gdal.GetDriverByName('GTiff')\n",
    "\n",
    "    dataset = driver.Create(\n",
    "        raster_name,\n",
    "        width,\n",
    "        height,\n",
    "        1,\n",
    "        gdal.GDT_Float32)\n",
    "\n",
    "    dataset.SetGeoTransform((\n",
    "     geotransform))\n",
    "\n",
    "    dataset.SetProjection(wkt)\n",
    "    dataset.GetRasterBand(1).WriteArray(data)\n",
    "    dataset.FlushCache()  # Write to disk.\n",
    "    return dataset, dataset.GetRasterBand(1) "
   ]
  },
  {
   "cell_type": "code",
   "execution_count": 20,
   "metadata": {},
   "outputs": [
    {
     "data": {
      "text/plain": [
       "(<osgeo.gdal.Dataset; proxy of <Swig Object of type 'GDALDatasetShadow *' at 0x0000015DEE2E53F0> >,\n",
       " <osgeo.gdal.Band; proxy of <Swig Object of type 'GDALRasterBandShadow *' at 0x0000015DEE2A29C0> >)"
      ]
     },
     "execution_count": 20,
     "metadata": {},
     "output_type": "execute_result"
    }
   ],
   "source": [
    "SingleGeotiff('test_file.tif', snow_data_subset, ydim, xdim, referencing_matrix, projection)"
   ]
  },
  {
   "cell_type": "markdown",
   "metadata": {},
   "source": [
    "## Convert Stacked H5 File into N Single Geotiffs"
   ]
  },
  {
   "cell_type": "code",
   "execution_count": 86,
   "metadata": {},
   "outputs": [],
   "source": [
    "path = 'tif/2001'\n",
    "for i in range(len(snow_data_float)):\n",
    "    dest = (str(i + 1) + '2001.tif') \n",
    "    name = os.path.join(path, dest)\n",
    "    data = snow_data_transposed[:,:,i]\n",
    "    SingleGeotiff(name, data, ydim, xdim, referencing_matrix, projection)"
   ]
  },
  {
   "cell_type": "code",
   "execution_count": null,
   "metadata": {},
   "outputs": [
    {
     "data": {
      "text/plain": [
       "'tif/2001\\\\sample'"
      ]
     },
     "execution_count": 16,
     "metadata": {},
     "output_type": "execute_result"
    }
   ],
   "source": [
    "path = 'tif/2001'\n",
    "dest = 'sample'\n",
    "name = os.path.join(path, dest)\n",
    "name"
   ]
  },
  {
   "cell_type": "markdown",
   "metadata": {},
   "source": [
    "## Convert Stacked H5 File to Geotiff"
   ]
  },
  {
   "cell_type": "code",
   "execution_count": 7,
   "metadata": {},
   "outputs": [],
   "source": [
    "def StackedGeotiff(name, array, geo_transform, projection):\n",
    "    \n",
    "    driver = gdal.GetDriverByName('GTiff')\n",
    "\n",
    "    DataSet = driver.Create(name, array.shape[2], array.shape[1], array.shape[0], gdal.GDT_Float32)\n",
    "    DataSet.SetGeoTransform(geo_transform)\n",
    "    DataSet.SetProjection(projection)\n",
    "    for i, image in enumerate(array, 1):\n",
    "        DataSet.GetRasterBand(i).WriteArray( image )\n",
    "    DataSet.FlushCache()\n",
    "    return name"
   ]
  },
  {
   "cell_type": "code",
   "execution_count": 8,
   "metadata": {},
   "outputs": [
    {
     "data": {
      "text/plain": [
       "'sample_stack10.tif'"
      ]
     },
     "execution_count": 8,
     "metadata": {},
     "output_type": "execute_result"
    }
   ],
   "source": [
    "StackedGeotiff('sample_stack.tif', snow_data_permuted, referencing_matrix, projection)"
   ]
  },
  {
   "cell_type": "markdown",
   "metadata": {},
   "source": [
    "## Transform Geotiff to WGS84 "
   ]
  },
  {
   "cell_type": "code",
   "execution_count": 23,
   "metadata": {},
   "outputs": [],
   "source": [
    "# Change the following variables to the file you want to convert (inputfile)\n",
    "# and what you want to name your output file (outputfile)\n",
    "inputfile = \"test_file.tif\"\n",
    "outputfile = \"wgs_test.tif\"\n",
    "#Do not change the following line, it will reproject the geotiff file\n",
    "ds = gdal.Warp(outputfile, inputfile, dstSRS=\"+proj=longlat +datum=WGS84 +no_defs\", dstNodata = 0)"
   ]
  }
 ],
 "metadata": {
  "interpreter": {
   "hash": "311c9f1546d91b85f6bb26e5b217af71ba7f07c0b1bca52550596402aff9fe28"
  },
  "kernelspec": {
   "display_name": "Python 3.8.12 ('eds223')",
   "language": "python",
   "name": "python3"
  },
  "language_info": {
   "codemirror_mode": {
    "name": "ipython",
    "version": 3
   },
   "file_extension": ".py",
   "mimetype": "text/x-python",
   "name": "python",
   "nbconvert_exporter": "python",
   "pygments_lexer": "ipython3",
   "version": "3.8.12"
  },
  "orig_nbformat": 4
 },
 "nbformat": 4,
 "nbformat_minor": 2
}
