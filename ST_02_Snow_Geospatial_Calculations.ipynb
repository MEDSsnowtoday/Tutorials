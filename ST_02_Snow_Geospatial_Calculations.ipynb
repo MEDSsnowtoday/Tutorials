{
 "cells": [
  {
   "cell_type": "markdown",
   "metadata": {},
   "source": [
    "# Snow Geospatial Calculations\n",
    "\n",
    "This tutorial is the second tutorial in a series of tutorials intended to walk you through downloading, accessing, processing, and visualizing the National Snow and Ice Data Center's (NSIDC) Snow Today's (https://nsidc.org/reports/snow-today) snow cover and albedo datasets. If you haven't already downloaded and explored Snow Today's snow fraction and albedo datasets, please visit the first tutorial, ST_01_Downloading_and_Exploring_Snow_Data. Included in this tutorials are steps to: \n",
    "\n",
    "1. Process snow and albedo datasets\n",
    "\n",
    "    a. Calculate annual and monthly means \n",
    "\n",
    "    b. Calculate monthly anomalies \n",
    "\n",
    "2.  Convert datasets to alternative file types \n",
    "\n",
    "3.  Create an interactive map of raster layers \n",
    "\n",
    "\n"
   ]
  },
  {
   "cell_type": "markdown",
   "metadata": {},
   "source": [
    "## Table of Contents\n",
    "\n",
    " ####  [Process Snow Data](#bullet1)\n",
    " * [Packages](#package1)\n",
    " * [Calculate Monthly Snow Cover Averages](#bullet2)\n",
    " * [Calculate Snow Cover Anomalies Per Month Per Year](#bullet5)\n",
    " * [Calculate Annual Snow Cover Averages](#bullet4) \n",
    " * [Prepare Snow Cover Data for Format Conversion](#bullet6)\n",
    " #### [Process Albedo Data](#bullet7)\n",
    " * [Packages](#package2)\n",
    " * [Calculate Monthly Albedo Averages](#bullet8)\n",
    " * [Calculate Albedo Anomalies Per Month Per Year](#bullet10)\n",
    " * [Calculate Annual Albedo Averages](#bullet9) \n",
    " * [Prepare Albedo Data for Format Conversion](#bullet11)\n",
    " #### [Convert Datasets to GeoTIFF](#bullet12)\n",
    " * [Packages](#package3)\n",
    " * [Define Geospatial Inputs](#bullet3)\n",
    " * [Convert Array to GeoTIFF](#bullet13)\n",
    " * [Convert Stacked Array into Multiple GeoTIFFss](#bullet14)\n",
    " * [Transform GeoTIFF to WGS84 Coordinate System](#bullet15)\n",
    " * [Transform GeoTIFF to NetCDF File](#bullet16)\n",
    " #### [Plot GeoTIFFs Using Leafmap Package](#bullet17)\n",
    " * [Packages](#package4)\n",
    " \n"
   ]
  },
  {
   "cell_type": "markdown",
   "metadata": {},
   "source": [
    "## Processing Snow Cover Data <a class=\"anchor\" id=\"bullet1\"></a>\n",
    "\n",
    "### Packages <a class=\"anchor\" id=\"package1\"></a>"
   ]
  },
  {
   "cell_type": "code",
   "execution_count": 2,
   "metadata": {},
   "outputs": [
    {
     "ename": "ModuleNotFoundError",
     "evalue": "No module named 'osgeo'",
     "output_type": "error",
     "traceback": [
      "\u001b[0;31m---------------------------------------------------------------------------\u001b[0m",
      "\u001b[0;31mModuleNotFoundError\u001b[0m                       Traceback (most recent call last)",
      "\u001b[0;32m<ipython-input-2-a8d520dc8f3c>\u001b[0m in \u001b[0;36m<module>\u001b[0;34m\u001b[0m\n\u001b[1;32m      1\u001b[0m \u001b[0;32mimport\u001b[0m \u001b[0mglob\u001b[0m\u001b[0;34m\u001b[0m\u001b[0;34m\u001b[0m\u001b[0m\n\u001b[0;32m----> 2\u001b[0;31m \u001b[0;32mfrom\u001b[0m \u001b[0mosgeo\u001b[0m \u001b[0;32mimport\u001b[0m \u001b[0mgdal\u001b[0m\u001b[0;34m\u001b[0m\u001b[0;34m\u001b[0m\u001b[0m\n\u001b[0m\u001b[1;32m      3\u001b[0m \u001b[0;32mimport\u001b[0m \u001b[0mnumpy\u001b[0m \u001b[0;32mas\u001b[0m \u001b[0mnp\u001b[0m\u001b[0;34m\u001b[0m\u001b[0;34m\u001b[0m\u001b[0m\n\u001b[1;32m      4\u001b[0m \u001b[0;32mimport\u001b[0m \u001b[0mpandas\u001b[0m \u001b[0;32mas\u001b[0m \u001b[0mpd\u001b[0m\u001b[0;34m\u001b[0m\u001b[0;34m\u001b[0m\u001b[0m\n",
      "\u001b[0;31mModuleNotFoundError\u001b[0m: No module named 'osgeo'"
     ]
    }
   ],
   "source": [
    "import glob\n",
    "from osgeo import gdal\n",
    "import numpy as np\n",
    "import pandas as pd"
   ]
  },
  {
   "cell_type": "markdown",
   "metadata": {},
   "source": [
    "## Glob the Datasets\n",
    "\n",
    "If you haven't already downloaded the snow cover and/or albedo datasets, please go to Tutorial ST_01_Downloading_and_Exploring_Snow_Data. Alternatively, you can manually download datasets from:\n",
    "https://snow.ucsb.edu/products/SPIRES/Sierra/ \n"
   ]
  },
  {
   "cell_type": "code",
   "execution_count": 2,
   "metadata": {},
   "outputs": [
    {
     "data": {
      "text/plain": [
       "['snow_cover\\\\Sierra2001.h5',\n",
       " 'snow_cover\\\\Sierra2002.h5',\n",
       " 'snow_cover\\\\Sierra2003.h5',\n",
       " 'snow_cover\\\\Sierra2004.h5',\n",
       " 'snow_cover\\\\Sierra2005.h5',\n",
       " 'snow_cover\\\\Sierra2006.h5',\n",
       " 'snow_cover\\\\Sierra2007.h5',\n",
       " 'snow_cover\\\\Sierra2008.h5',\n",
       " 'snow_cover\\\\Sierra2009.h5',\n",
       " 'snow_cover\\\\Sierra2010.h5',\n",
       " 'snow_cover\\\\Sierra2011.h5',\n",
       " 'snow_cover\\\\Sierra2012.h5',\n",
       " 'snow_cover\\\\Sierra2013.h5',\n",
       " 'snow_cover\\\\Sierra2014.h5',\n",
       " 'snow_cover\\\\Sierra2015.h5',\n",
       " 'snow_cover\\\\Sierra2016.h5',\n",
       " 'snow_cover\\\\Sierra2017.h5',\n",
       " 'snow_cover\\\\Sierra2018.h5',\n",
       " 'snow_cover\\\\Sierra2019.h5']"
      ]
     },
     "execution_count": 2,
     "metadata": {},
     "output_type": "execute_result"
    }
   ],
   "source": [
    "# As we did the first tutorial, let's \"glob\" our datasets together. \n",
    "# Note: If your datasets do not appear in sequential order i.e., 2001, 2002, etc. use sorted(glob.glob('snow_cover/*.h5'))\n",
    "snow_cover_ds = glob.glob('snow_cover/*.h5')\n",
    "snow_cover_ds"
   ]
  },
  {
   "cell_type": "markdown",
   "metadata": {},
   "source": [
    "## Calculate Monthly Snow Cover Averages<a class=\"anchor\" id=\"bullet2\"></a>"
   ]
  },
  {
   "cell_type": "markdown",
   "metadata": {},
   "source": [
    "Before we calculate the monthly average of snow cover for all our data, let's try and calculate the average for a single month in a single year."
   ]
  },
  {
   "cell_type": "code",
   "execution_count": 8,
   "metadata": {},
   "outputs": [
    {
     "data": {
      "text/plain": [
       "(1841, 1334, 365)"
      ]
     },
     "execution_count": 8,
     "metadata": {},
     "output_type": "execute_result"
    }
   ],
   "source": [
    "# Get subdatasets of first snow fraction dataset ('Sierra2001.h5').\n",
    "sierra_snow_2001 = gdal.Open(snow_cover_ds[0], gdal.GA_ReadOnly).GetSubDatasets()\n",
    "\n",
    "# Pull divisor from dataset (100)\n",
    "snow_divisor = int(gdal.Open(snow_cover_ds[0], gdal.GA_ReadOnly).GetMetadata()['Grid_MODIS_GRID_500m_snow_fraction_divisor'])\n",
    "\n",
    "# (datasets[3] is to choose the 4th dataset in the subdirectory (i.e., snow fraction). \n",
    "# The second bracket [0] is needed to open the dataset.\n",
    "snow_data_2001 = gdal.Open(sierra_snow_2001[3][0])\n",
    "\n",
    "# Changes the selected dataset into an array.\n",
    "snow_data_array_2001 = snow_data_2001.ReadAsArray()\n",
    "\n",
    "# Converts the variables to 'float' to allow us to convert NA values (255) to nans\n",
    "snow_data_float_2001 = snow_data_array_2001.astype('float')\n",
    "snow_data_float_2001[snow_data_float_2001 == 255] = np.nan\n",
    "\n",
    "snow_data_float_2001 = snow_data_float_2001/snow_divisor\n",
    "\n",
    "# Transpose the data so that the 'days' dimension is the last one in our matrix. \n",
    "snow_data_transposed_2001 = np.transpose(snow_data_float_2001)\n",
    "\n",
    "np.shape(snow_data_transposed_2001)"
   ]
  },
  {
   "cell_type": "markdown",
   "metadata": {},
   "source": [
    "Now that we've filtered out NA values and transposed our data, let's take the monthly mean of October, the first month in our dataset. \n",
    "(Recall from the first tutorial that the datasets follow the water year, which starts on October-1 of the year prior and goes to September 30 of the next year.) "
   ]
  },
  {
   "cell_type": "code",
   "execution_count": 9,
   "metadata": {},
   "outputs": [
    {
     "name": "stdout",
     "output_type": "stream",
     "text": [
      "93\n",
      "123\n"
     ]
    }
   ],
   "source": [
    "# Let's test to see if we can create a range of dates starting at '2000-10-01', the first date of our first year.\n",
    "\n",
    "# First, we'll make a string of the first day of our dataset (Sierra2001.h5)\n",
    "\n",
    "start_date = (str(2000) + '-10-01')\n",
    "\n",
    "# Next, we'll make a string of the last day in our dataset since our datasets always end on September 30th of the water year.\n",
    "# Notice that we're adding 1 to our year since water years count from the year prior.\n",
    "\n",
    "end_date = (str(int(2000) + 1) + '-09-30')\n",
    "\n",
    "# Creates a list of datetimes based on each year in our dataset.\n",
    "# start = start of the water year\n",
    "# end = end of water year\n",
    "# freq = frequency of series (in this case days)\n",
    "# freq = \"d\" outputs the values in year-month-day format. \n",
    "# For additional information regarding datetime types, go to: https://pandas.pydata.org/pandas-docs/version/0.15/timeseries.html\n",
    "\n",
    "year_month_day = pd.Series(pd.date_range(start = start_date, end = end_date, freq=\"d\"))\n",
    "\n",
    "# Now we have a list of dates that span the same length as our dataset. We'll be using the index position, (i.e., what row dates are located between) to subset our dataset.\n",
    "# Here, we're subsetting our list for month 1, or January in this case.  \n",
    "\n",
    "month = year_month_day[year_month_day.dt.month == 1]\n",
    "\n",
    "# Now for a little Python trickery-- since our year_month_day variable starts and ends at the same time as our dataset(e.g., 20xx-10-01 to 20xx-09-03), \n",
    "# we can use the subset of the months of our dataset by the index of the list.\n",
    "# However, as Python counts from 0 onward, and we are interested in the physical values for dates, \n",
    "# we need to add 1 to our first and last month values (e.g., change 0-30 to 1-31).\n",
    "# This results in two variables that coincide with each month's first and last day indexes in our dataset.\n",
    "\n",
    "first_day_month = month.index[0].astype('int') + 1 \n",
    "print(first_day_month)\n",
    "#[-1] outputs the last value of list \n",
    "last_day_month = month.index[-1].astype('int') + 1\n",
    "print(last_day_month)"
   ]
  },
  {
   "cell_type": "markdown",
   "metadata": {},
   "source": [
    "Here we see that January the 'first_day_month' of January aligns with index position 93, while the 'last_day_month' variable aligns with index number 123. This is because our dataset starts from October 2000. As such, our dataset 'days' counts from 0 onwards. October aligns with index positions 0-31, November aligns with 32-61, December with 62-92, etc. \n",
    "\n",
    "\n",
    "Now that we can select the first and last day of any month, we can subset our datasets by days between those values and then take the mean of those days to get the monthly snow cover average.  "
   ]
  },
  {
   "cell_type": "code",
   "execution_count": 10,
   "metadata": {},
   "outputs": [
    {
     "name": "stderr",
     "output_type": "stream",
     "text": [
      "C:\\Users\\rmunn\\AppData\\Local\\Temp\\ipykernel_18080\\4203345156.py:11: RuntimeWarning: Mean of empty slice\n",
      "  mean = np.nanmean(month_len, axis = 2)\n"
     ]
    },
    {
     "data": {
      "text/plain": [
       "(1, 1841, 1334)"
      ]
     },
     "execution_count": 10,
     "metadata": {},
     "output_type": "execute_result"
    }
   ],
   "source": [
    "# Create an empty list to append our calculated values to. \n",
    "\n",
    "month_list = []\n",
    "\n",
    "# Here, we're subsetting our dataset the first and last day of the selected month.\n",
    "\n",
    "month_len = snow_data_transposed_2001[:,:,first_day_month:last_day_month]\n",
    "\n",
    "# Takes the mean of each cell in x and y dimensions over the specific month. \n",
    "# Axis 2 aligns with our 3rd dimension, which are days in this case.  \n",
    "mean = np.nanmean(month_len, axis = 2)\n",
    "\n",
    "# Appends the values to an empty list.\n",
    "month_list.append(mean)\n",
    "\n",
    "# Converts list to an array. \n",
    "month_array = np.array(month_list)\n",
    "\n",
    "\n",
    "# We now have a 3 dimensional dataset where the first dimension is month and second and third are x and y dimensions. \n",
    "np.shape(month_array)"
   ]
  },
  {
   "cell_type": "markdown",
   "metadata": {},
   "source": [
    "Great--we now have a monthly mean for a single month. Let's try and for loop through each month of each year. "
   ]
  },
  {
   "cell_type": "markdown",
   "metadata": {},
   "source": [
    "### For Loop Through Each Year"
   ]
  },
  {
   "cell_type": "code",
   "execution_count": 11,
   "metadata": {},
   "outputs": [
    {
     "data": {
      "text/plain": [
       "(19, 12, 1841, 1334)"
      ]
     },
     "execution_count": 11,
     "metadata": {},
     "output_type": "execute_result"
    }
   ],
   "source": [
    "# Create an empty list to append our values to. \n",
    "snow_monthly_means_list = []\n",
    "for i in range(len(snow_cover_ds)):\n",
    "    # Get subdatasets of first snow fraction dataset ('Sierra2001.h5').\n",
    "    datasets = gdal.Open(snow_cover_ds[i], gdal.GA_ReadOnly).GetSubDatasets()\n",
    "\n",
    "    # (sds[3] is to choose the 4th dataset in the subdirectory (i.e., snow fraction). \n",
    "    # The second bracket [0] is needed to open the dataset.\n",
    "    snow_data = gdal.Open(datasets[3][0])\n",
    "\n",
    "    # Changes the selected dataset into an array.\n",
    "    snow_data_array = snow_data.ReadAsArray()\n",
    "\n",
    "    # Converts the variables to 'float' to allow us to convert NA values (255) to nans\n",
    "    snow_data_float=snow_data_array.astype('float')\n",
    "    snow_data_float[snow_data_float == 255] = np.nan\n",
    "\n",
    "    # Divide data by the divisor (100)\n",
    "    snow_data_float = snow_data_float / snow_divisor\n",
    "    \n",
    "    # Transpose the dataset \n",
    "    snow_data_transposed = np.transpose(snow_data_float)\n",
    "    \n",
    "    # Make a variable for the starting year of each water year.\n",
    "    year =  i + 2000\n",
    "\n",
    "    # Creates a variable for the end date in the water year. \n",
    "    start_date = (str(year) + '-10-01')\n",
    "    end_date = (str(int(year) + 1) + '-09-30')\n",
    "\n",
    "    # Creates a list of datetimes based on each year in our dataset.\n",
    "    # start = start of the water year\n",
    "    # end = end of water year\n",
    "    # freq = frequency of series (in this case days)\n",
    "    year_month_day = pd.Series(pd.date_range(start = start_date, end = end_date, freq=\"d\"))\n",
    "    \n",
    "    #Need to create an empty list to append our nest for loop values to. \n",
    "    new_list = []\n",
    "    \n",
    "    # For loop to calculate the mean for each month per year. \n",
    "    for j in range (1, 13):\n",
    "        # Subset the date year we just created based on month each month. \n",
    "        month = year_month_day[year_month_day.dt.month == j]\n",
    "\n",
    "        # Since our year_month_day variable starts and ends at the same time as our dataset(e.g., 20xx-10-01 to 20xx-09-03), we can use the subset the months our dataset by the lists index.\n",
    "        # However, as Python counts from 0 onward, and we are interested in the physical values for dates, we need to add 1 to our first and last month values (e.g., change 0-30 to 1-31)\n",
    "        first_day_month = month.index[0].astype('int') + 1 \n",
    "        last_day_month = month.index[-1].astype('int') + 1\n",
    "        \n",
    "        # Subset our yearly data by each months values.\n",
    "        month_len = snow_data_transposed[:,:,first_day_month:last_day_month]\n",
    "\n",
    "        # Now we can take the mean of year month, since our 3rd dimension is the subset of days for that month.\n",
    "        # This will reduce our dimensions down to 2, since we're taking the average over a month. \n",
    "        mean = np.mean(month_len, axis = 2)\n",
    "        \n",
    "        # Append monthly mean values to list for a single year. \n",
    "        new_list.append(mean)\n",
    "\n",
    "    # Append single year lists to yearly list, which will contain all the monthly means per year. \n",
    "    snow_monthly_means_list.append(new_list)\n",
    "    \n",
    "# Converts list to array. \n",
    "snow_monthly_mean_per_year_array = np.array(snow_monthly_means_list)\n",
    "np.shape(snow_monthly_mean_per_year_array)"
   ]
  },
  {
   "cell_type": "markdown",
   "metadata": {},
   "source": [
    "Here we see that our final product is a four dimensional array, where the first dimension is years, the second dimension is months, and the third and fourth dimensions are x and y dimensions. "
   ]
  },
  {
   "cell_type": "markdown",
   "metadata": {},
   "source": [
    "## Calculate Snow Cover Anomalies Per Month Per Year<a class=\"anchor\" id=\"bullet5\"></a> \n",
    "\n",
    "Now that we have successfully calculated the monthly averages of snow cover, let's try calculate the monthly snow cover anomalies. Anomalies, in this instance, are the difference of monthly averages of a single dataset from the monthly average of all datasets. This can helpful if you're trying to compare how a single months snow cover compares the trend in snow cover for a given month. "
   ]
  },
  {
   "cell_type": "code",
   "execution_count": 10,
   "metadata": {},
   "outputs": [
    {
     "data": {
      "text/plain": [
       "(19, 12, 1841, 1334)"
      ]
     },
     "execution_count": 10,
     "metadata": {},
     "output_type": "execute_result"
    }
   ],
   "source": [
    "# Note: February's monthly average is slightly skewed towards leap years since we are not taking a weighted mean\n",
    "\n",
    "# Since we already have the mean of each month per year stored in a 4d array (year, month, ydim, xdim), we can take the mean of the year column (axis 0), since each year column\n",
    "# stores a 3d array for each year. This function will effectively take the mean of each month, ydim, and xdim to end up with a single 3d array. \n",
    "mean_of_months = np.mean(snow_monthly_mean_per_year_array, axis = 0)\n",
    "\n",
    "# Create empty list to put anomalies in.\n",
    "monthly_anomalies = []\n",
    "\n",
    "# For loop through each year in the dataset \n",
    "# [:] selects the first dimension in our 4d dataset, which is years, in this case. \n",
    "for i in range(len(snow_monthly_mean_per_year_array[:])):\n",
    "    \n",
    "    # Creates a subsetted dataset of each year\n",
    "    selected_anomaly_year = snow_monthly_mean_per_year_array[i]\n",
    "    \n",
    "    # Create an empty list to append our monthly anomalies to\n",
    "    month_anomalies_list = []\n",
    "    \n",
    "    # For loop through each month of each year (12)\n",
    "    # [:] selects the dimension in our 3d dataset, which is months, in this case. \n",
    "    for j in range(len(selected_anomaly_year[:])):\n",
    "       \n",
    "        # Subtract our monthly means from our annual means for each month\n",
    "        monthly_anom = selected_anomaly_year[j] - mean_of_months[j]\n",
    "       \n",
    "        # Append list with the calculated monthly anomalies.\n",
    "        month_anomalies_list.append(monthly_anom)\n",
    "\n",
    "    # Append list with list comprised of monthly anomalies\n",
    "    # Final list values will be the same shape as the monthly_means_per_year dataset since we are calculating monthly anomalies for each year.\n",
    "    monthly_anomalies.append(month_anomalies_list)\n",
    "\n",
    "# Transform to list to arrays\n",
    "snow_anom_array = np.array(monthly_anomalies)\n",
    "\n",
    "np.shape(snow_anom_array)\n"
   ]
  },
  {
   "cell_type": "markdown",
   "metadata": {},
   "source": [
    "Notice that the shape our dataset the same as our monthly means dataset. This is because we calculated the monthly anomalies of each month for each year. "
   ]
  },
  {
   "cell_type": "markdown",
   "metadata": {},
   "source": [
    "## Calculate Annual Snow Cover Averages<a class=\"anchor\" id=\"bullet4\"></a> \n",
    "\n",
    "In general, snow is a seasonal phenomenon. As such, if we were to take the annual average snow cover of the Sierras, we'd be left with an array with little to snow present (since at least half the year snow would not be present). Therefore, we will calculate the average snow cover of non-zero values. \n",
    "\n",
    "If you'd like to calculate the true annual snow cover average, please hash out 'snow_data_float[snow_data_float == 0 ] = np.nan' in the code chunk below. "
   ]
  },
  {
   "cell_type": "code",
   "execution_count": null,
   "metadata": {},
   "outputs": [],
   "source": [
    "# Create an empty list to append our yearly means to\n",
    "snow_year_list = []\n",
    "\n",
    "for i in range(len(snow_cover_ds)):\n",
    "    \n",
    "    # Get subdatasets of first snow fraction dataset ('Sierra2001.h5').\n",
    "    datasets = gdal.Open(snow_cover_ds[i], gdal.GA_ReadOnly).GetSubDatasets()\n",
    "\n",
    "    # (sds[3] is to choose the 4th dataset in the subdirectory (i.e., snow fraction). \n",
    "    # The second bracket [0] is needed to open the dataset.\n",
    "    snow_data = gdal.Open(datasets[3][0])\n",
    "\n",
    "    # Changes the selected dataset into an array.\n",
    "    snow_data_array = snow_data.ReadAsArray()\n",
    "\n",
    "    # Converts the variables to 'float' to allow us to convert NA values 255 to nans\n",
    "    # We'll also convert 0s to nans to calculate the average of non-zero values\n",
    "    snow_data_float=snow_data_array.astype('float')\n",
    "    snow_data_float[snow_data_float == 255] = np.nan\n",
    "    \n",
    "    # If you'd like to calculate the true annual mean of snow cover, hash out (add #) in front of the code chunk below. \n",
    "    snow_data_float[snow_data_float == 0 ] = np.nan\n",
    "\n",
    "    # Divide data by the divisor (100)\n",
    "    snow_data_float = snow_data_float/snow_divisor\n",
    "    \n",
    "    # Transpose our dataset, as we did in the code chunks above\n",
    "    snow_data_transposed = np.transpose(snow_data_float)\n",
    "    \n",
    "    # The dimensions of our data is now ydim, xdim, days. \n",
    "    # Now, we can take the mean by our 3rd dimension to find the non-zero average of annual values of snow.\n",
    "    annual_snow = np.nanmean(snow_data_transposed, axis = 2)\n",
    "    \n",
    "    # Append yearly values to a list. \n",
    "    snow_year_list.append(annual_snow)\n",
    "\n",
    "# Convert list to an array. \n",
    "snow_year_array = np.array(snow_year_list)\n",
    "\n",
    "np.shape(snow_year_array)"
   ]
  },
  {
   "cell_type": "markdown",
   "metadata": {},
   "source": [
    "Now we're left with a 3 dimensional dataset where the dimensions are: years, x dim, y dim. "
   ]
  },
  {
   "cell_type": "markdown",
   "metadata": {},
   "source": [
    "## Prepare Snow Data for Format Conversion <a class=\"anchor\" id=\"bullet6\"></a> \n",
    "\n",
    "Now that we have a dataset of monthly means, annual averages, and monthly anomalies, we can prepare our dataset for format conversions. Here we'll subset out all 0 values from our dataset and learn how to select a specific year/month. We subset out the 0 values so that when we convert our data, we'll be left with a raster layer where only snow values are present. This allows use to see the basemap below the area of our raster layer. \n",
    "\n",
    "We'll select three arrays to convert to GeoTIFFs and NetCDF formats: \n",
    "\n",
    "* mean snow cover of month one of year one;\n",
    "\n",
    "* snow cover anomaly of month one of year one; and  \n",
    "\n",
    "* mean snow cover for year one.\n",
    "\n",
    "Note: To convert stacked arrays into stacked geoTIFFs, we need to transposed our datasets so that our dimensions are ordered as: x dimension, y dimension, time. \n",
    "\n",
    "### Process Monthly Averages"
   ]
  },
  {
   "cell_type": "code",
   "execution_count": 21,
   "metadata": {},
   "outputs": [],
   "source": [
    "# We need to first convert our array that we calculated above to 'float'.\n",
    "\n",
    "snow_monthly_mean_per_year_float = snow_monthly_mean_per_year_array.astype('float')\n",
    "\n",
    "# Next, he convert all 0s to nan values\n",
    "snow_monthly_mean_per_year_float[snow_monthly_mean_per_year_float== 0] = np.nan\n",
    "\n",
    "# Last, we convert our dataset back in array\n",
    "snow_cover_monthly_mean = np.array(snow_monthly_mean_per_year_float)\n",
    "\n",
    "\n",
    "# Select the first year of our dataset.\n",
    "snow_year_one = snow_cover_monthly_mean[0,:,:,:]\n",
    "\n",
    "# Select the first month of the first year \n",
    "snow_year_one_month_one = snow_year_one[0,:,:]\n"
   ]
  },
  {
   "cell_type": "markdown",
   "metadata": {},
   "source": [
    "### Process Snow Cover Monthly Anomalies\n",
    "\n",
    "Here we do the same steps as we did with the monthly averages. "
   ]
  },
  {
   "cell_type": "code",
   "execution_count": 22,
   "metadata": {},
   "outputs": [],
   "source": [
    "#Let's do the same for our anomaly dataset \n",
    "\n",
    "# We need to first convert our array that we calculated above to 'float'.\n",
    "snow_anom_float = snow_anom_array.astype('float')\n",
    "\n",
    "# Next, he convert all 0s to nan values\n",
    "snow_anom_float[snow_anom_float== 0] = np.nan\n",
    "\n",
    "# Last, we convert our dataset back in array\n",
    "snow_anom_mean = np.array(snow_anom_float)\n",
    "\n",
    "#Select the first year of the anomaly dataset. \n",
    "snow_year_one_anom = snow_anom_mean[0,:,:,:]\n",
    "\n",
    "# Select the first month of the first year\n",
    "snow_year_one_month_one_anom = snow_year_one_anom[0,:,:]"
   ]
  },
  {
   "cell_type": "markdown",
   "metadata": {},
   "source": [
    "### Process Annual Snow Cover Averages\n",
    "\n",
    "Since we've already subsetted out 0s in our annual calculations, all we need to do is select the year we're interested in and transpose our data. "
   ]
  },
  {
   "cell_type": "code",
   "execution_count": 15,
   "metadata": {},
   "outputs": [],
   "source": [
    "# Select first year of the dataset \n",
    "annual_snow_year_one = snow_year_array[0,:,:]"
   ]
  },
  {
   "cell_type": "markdown",
   "metadata": {},
   "source": [
    "# Process Albedo Data<a class=\"anchor\" id=\"bullet7\"></a> \n",
    "Next, we'll run through the same steps as we did above, but for the albedo datasets. If you haven't already, please go to the first tutorial to learn how to download the albedo datasets. \n",
    "\n",
    "Alternatively, to manually download Sierra albedo datasets, please visit: https://snow.ucsb.edu/products/SPIRES/SierraAlbedo/\n",
    "\n",
    "## Packages<a class=\"anchor\" id=\"package2\"></a> \n"
   ]
  },
  {
   "cell_type": "code",
   "execution_count": 1,
   "metadata": {},
   "outputs": [],
   "source": [
    "import glob\n",
    "from osgeo import gdal\n",
    "import numpy as np\n",
    "import pandas as pd"
   ]
  },
  {
   "cell_type": "markdown",
   "metadata": {},
   "source": [
    "## Glob the datasets together"
   ]
  },
  {
   "cell_type": "code",
   "execution_count": 12,
   "metadata": {},
   "outputs": [
    {
     "data": {
      "text/plain": [
       "['albedo\\\\SierraAlbedo2001.h5',\n",
       " 'albedo\\\\SierraAlbedo2002.h5',\n",
       " 'albedo\\\\SierraAlbedo2003.h5',\n",
       " 'albedo\\\\SierraAlbedo2004.h5',\n",
       " 'albedo\\\\SierraAlbedo2005.h5',\n",
       " 'albedo\\\\SierraAlbedo2006.h5',\n",
       " 'albedo\\\\SierraAlbedo2007.h5',\n",
       " 'albedo\\\\SierraAlbedo2008.h5',\n",
       " 'albedo\\\\SierraAlbedo2009.h5',\n",
       " 'albedo\\\\SierraAlbedo2010.h5',\n",
       " 'albedo\\\\SierraAlbedo2011.h5',\n",
       " 'albedo\\\\SierraAlbedo2012.h5',\n",
       " 'albedo\\\\SierraAlbedo2013.h5',\n",
       " 'albedo\\\\SierraAlbedo2014.h5',\n",
       " 'albedo\\\\SierraAlbedo2015.h5',\n",
       " 'albedo\\\\SierraAlbedo2016.h5',\n",
       " 'albedo\\\\SierraAlbedo2017.h5',\n",
       " 'albedo\\\\SierraAlbedo2018.h5',\n",
       " 'albedo\\\\SierraAlbedo2019.h5']"
      ]
     },
     "execution_count": 12,
     "metadata": {},
     "output_type": "execute_result"
    }
   ],
   "source": [
    "# As we did with snow cover, let's \"glob\" our datasets together. \n",
    "# Note: If your datasets do not appear in sequential order i.e., 2001, 2002, etc. use: sorted(glob.glob('albedo/*.h5'))\n",
    "albedo_ds = glob.glob('albedo/*.h5')\n",
    "albedo_ds"
   ]
  },
  {
   "cell_type": "markdown",
   "metadata": {},
   "source": [
    "## Calculate Monthly Albedo Averages<a class=\"anchor\" id=\"bullet8\"></a> \n",
    "\n",
    "Here we'll go through the same process as we did with calculating monthly average snow cover. \n",
    "\n",
    "Recall from the first tutorial that albedo values have a divisor of 10000. Albedo is generally reported from 0-1 (0 being no surface reflection and 1 being 100% reflection). To get albedo in the correct units, we'll need to divide each of our monthly values by 10000. Unfortunately, unlike snow cover, the albedo divisor is not easily callable from metadata. So for simplicity, we'll explicitly define the divisor (10000) above the for loop. \n"
   ]
  },
  {
   "cell_type": "code",
   "execution_count": 14,
   "metadata": {},
   "outputs": [
    {
     "data": {
      "text/plain": [
       "(19, 12, 1841, 1334)"
      ]
     },
     "execution_count": 14,
     "metadata": {},
     "output_type": "execute_result"
    }
   ],
   "source": [
    "# Create an empty list to append values to\n",
    "albedo_monthly_mean_list = []\n",
    "\n",
    "albedo_divisor = 10000\n",
    "\n",
    "# Select a range of values based on the number of datasets\n",
    "for i in range(len(albedo_ds)):\n",
    "    # Open albedo sub dataset\n",
    "    albedo_data = gdal.Open(albedo_ds[i], gdal.GA_ReadOnly)\n",
    "\n",
    "    # Change the selected dataset into an array.\n",
    "    albedo_data_array = albedo_data.ReadAsArray()\n",
    "\n",
    "    albedo_data_float = albedo_data_array.astype('float')\n",
    "    \n",
    "    # Convert na values to nans\n",
    "    albedo_data_float[albedo_data_float == 65535] = np.nan\n",
    "\n",
    "    albedo_data_float = albedo_data_float/albedo_divisor\n",
    "\n",
    "    # Transpose albedo data\n",
    "    albedo_data_transposed = np.transpose(albedo_data_float)\n",
    "    \n",
    "    # Make a variable for the starting year of each water year.\n",
    "    year =  i + 2000\n",
    "\n",
    "    # Creates a variable for the first date in the water year. \n",
    "    start_date = pd.to_datetime(str(year) + '-10-01')\n",
    "    end_date = pd.to_datetime(str(int(year) + 1) + '-09-30')\n",
    "\n",
    "    # Creates a list of datetimes based on each year in our dataset.\n",
    "    albedo_year_month_date = pd.Series(pd.date_range(start = start_date, end = end_date, freq=\"d\"))\n",
    "\n",
    "    # Need to create an empty list to append our nested for loop values to. \n",
    "    new_list = []\n",
    "\n",
    "    # For loop to calculate the mean for each month per year.\n",
    "    for j in range (1, 13):\n",
    "\n",
    "        # Subset the date year based on month.\n",
    "        month = albedo_year_month_date[albedo_year_month_date.dt.month == j]\n",
    "        \n",
    "        # Select the first and last day of the month based on our lists index values. \n",
    "        # Need to add one to each value since Python counts from 0 onward. \n",
    "        first_day_month = month.index[0].astype('int') + 1 \n",
    "        last_day_month = month.index[-1].astype('int') + 1\n",
    "        \n",
    "        # Subset dataset by each month.\n",
    "        month_len = albedo_data_transposed[:,:,first_day_month:last_day_month]\n",
    "\n",
    "        # Take the mean of each month per year. \n",
    "        mean = np.mean(month_len, axis = 2)\n",
    "\n",
    "        # Append mean values to list per year. \n",
    "        new_list.append(mean)\n",
    "\n",
    "    # Append year lists to empty list. \n",
    "    albedo_monthly_mean_list.append(new_list)\n",
    "\n",
    "# Converts list to array. \n",
    "albedo_monthly_mean_array = np.array(albedo_monthly_mean_list)\n",
    "np.shape(albedo_monthly_mean_array)"
   ]
  },
  {
   "cell_type": "markdown",
   "metadata": {},
   "source": [
    "## Calculate Albedo Anomalies Per Month Per Year <a class=\"anchor\" id=\"bullet10\"></a> \n",
    "\n",
    "Similar to snow cover, let's be calculate albedo anomalies for each month in each year. "
   ]
  },
  {
   "cell_type": "code",
   "execution_count": 15,
   "metadata": {},
   "outputs": [],
   "source": [
    "# Takes the mean of each monthly mean\n",
    "# Note: to get true mean (weighted mean), we would need to take the mean of the cumulative days of a single month, then divide by the number of days. \n",
    "# However, since the sample size only varies by one day every four years (leap years), this will give us near identical values. \n",
    "month_mean_albedo = np.mean(albedo_monthly_mean_array, axis = 0)\n",
    "np.shape(month_mean_albedo)\n",
    "\n",
    "\n",
    "# Create empty list to put values in \n",
    "albedo_monthly_anom = []\n",
    "\n",
    "# Select range in years (1, 19)\n",
    "for i in range(len(albedo_monthly_mean_array[:])):\n",
    "\n",
    "   # albedo_divisor_array[i] chooses the first year in the dataset since the first dim is year\n",
    "    albedo_year_anom = albedo_monthly_mean_array[i]\n",
    "\n",
    "    # Create an empty list to append nest for loop values to.\n",
    "    sub_list = []\n",
    "\n",
    "    # select range in months per year(1, 12)\n",
    "    for j in range(len(albedo_year_anom[:])):\n",
    "\n",
    "        # albedo_year_anom[j] chooses the first mean month of the selected year\n",
    "        # Since we've already calculated the annual monthly mean over 19 years, we can subtract each \n",
    "        # monthly mean from the annual monthly mean to see how each years monthly means deviate from the annual monthly mean   \n",
    "        month_anom = albedo_year_anom[j] - month_mean_albedo[j]\n",
    "        \n",
    "        # Append monthly anomalies to the list \n",
    "        sub_list.append(month_anom)\n",
    "\n",
    "    # Append monthly anomalies per year to the list\n",
    "    albedo_monthly_anom.append(sub_list)\n",
    "\n",
    "# Convert anomaly list to an array\n",
    "albedo_anom_array = np.array(albedo_monthly_anom)"
   ]
  },
  {
   "cell_type": "markdown",
   "metadata": {},
   "source": [
    "## Calculate the Annual Albedo Averages<a class=\"anchor\" id=\"bullet9\"></a> \n",
    "\n",
    "Similar to snow cover, we'll calculate the non-zero albedo averages per each year. "
   ]
  },
  {
   "cell_type": "code",
   "execution_count": 17,
   "metadata": {},
   "outputs": [
    {
     "name": "stderr",
     "output_type": "stream",
     "text": [
      "C:\\Users\\rmunn\\AppData\\Local\\Temp\\ipykernel_18080\\3878712744.py:32: RuntimeWarning: Mean of empty slice\n",
      "  annual_albedo = np.nanmean(albedo_data_transposed, axis = 2)\n"
     ]
    },
    {
     "data": {
      "text/plain": [
       "(19, 1841, 1334)"
      ]
     },
     "execution_count": 17,
     "metadata": {},
     "output_type": "execute_result"
    }
   ],
   "source": [
    "# Create an empty list to append our yearly means to\n",
    "albedo_year_list = []\n",
    "\n",
    "# We'll divide our values by this number. \n",
    "albedo_divisor = 10000\n",
    "\n",
    "# Select a range of values based on the number of datasets\n",
    "for i in range(len(albedo_ds)):\n",
    "    \n",
    "    # Open albedo sub dataset\n",
    "    albedo_data = gdal.Open(albedo_ds[i], gdal.GA_ReadOnly)\n",
    "\n",
    "    # Change the selected dataset into an array.\n",
    "    albedo_data_array = albedo_data.ReadAsArray()\n",
    "\n",
    "    albedo_data_float = albedo_data_array.astype('float')\n",
    "    \n",
    "    # Convert na values to nans\n",
    "    albedo_data_float[albedo_data_float == 65535] = np.nan\n",
    "\n",
    "    # If you'd like to calculate the true annual mean of albedo, hash out (add #) in front of the code chunk below. \n",
    "    albedo_data_float[albedo_data_float == 0 ] = np.nan\n",
    "\n",
    "    # Divide data by the divisor \n",
    "    albedo_data_float = albedo_data_float/albedo_divisor\n",
    "\n",
    "    # Transpose our dataset, as we did in the code chunks above\n",
    "    albedo_data_transposed = np.transpose(albedo_data_float)\n",
    "    \n",
    "    # The dimensions of our data is now ydim, xdim, days. \n",
    "    # Now, we can take the mean by our 3rd dimension to find the non-zero average of annual values of albedo.\n",
    "    annual_albedo = np.nanmean(albedo_data_transposed, axis = 2)\n",
    "    \n",
    "    # Append yearly values to a list. \n",
    "    albedo_year_list.append(annual_albedo)\n",
    "\n",
    "# Convert list to an array. \n",
    "albedo_year_array = np.array(albedo_year_list)\n",
    "\n",
    "np.shape(albedo_year_array)"
   ]
  },
  {
   "cell_type": "markdown",
   "metadata": {},
   "source": [
    "## Process Albedo Data for Format Conversion <a class=\"anchor\" id=\"bullet11\"></a> \n",
    "\n",
    "Similar to snow cover, we'll select three arrays to convert to GeoTIFFs and NetCDF formats: \n",
    "\n",
    "* mean albedo of month one of year one;\n",
    "\n",
    "* albedo anomaly of month one of year one; and  \n",
    "\n",
    "* mean albedo for year one."
   ]
  },
  {
   "cell_type": "markdown",
   "metadata": {},
   "source": [
    "### Process Monthly Albedo Data"
   ]
  },
  {
   "cell_type": "code",
   "execution_count": 24,
   "metadata": {},
   "outputs": [],
   "source": [
    "# We need to first convert our array that we calculated above to 'float'.\n",
    "albedo_monthly_float = albedo_monthly_mean_array.astype('float')\n",
    "\n",
    "# Next, he convert all 0s to nan values\n",
    "albedo_monthly_float[albedo_monthly_float== 0] = np.nan\n",
    "\n",
    "# Last, we convert our dataset back in array\n",
    "albedo_monthly_mean = np.array(albedo_monthly_float)\n",
    "\n",
    "# Select the first year of our dataset.\n",
    "albedo_year_one = albedo_monthly_mean[0,:,:,:]\n",
    "\n",
    "# Select the first month of the first year \n",
    "albedo_year_one_month_one = albedo_year_one[0,:,:]"
   ]
  },
  {
   "cell_type": "markdown",
   "metadata": {},
   "source": [
    "### Process Monthly Anomaly Albedo Data"
   ]
  },
  {
   "cell_type": "code",
   "execution_count": 27,
   "metadata": {},
   "outputs": [],
   "source": [
    "#Let's do the same for our anomaly dataset \n",
    "\n",
    "# We need to first convert our array that we calculated above to 'float'.\n",
    "albedo_anom_float = albedo_anom_array.astype('float')\n",
    "\n",
    "# Next, he convert all 0s to nan values\n",
    "albedo_anom_float[albedo_anom_float== 0] = np.nan\n",
    "\n",
    "# Last, we convert our dataset back in array\n",
    "albedo_anom_mean = np.array(albedo_anom_float)\n",
    "\n",
    "#Select the first year of the anomaly dataset. \n",
    "albedo_year_one_anom = albedo_anom_mean[0,:,:,:]\n",
    "\n",
    "# Select the first month of the first year\n",
    "albedo_year_one_month_one_anom = albedo_year_one_anom[0,:,:]"
   ]
  },
  {
   "cell_type": "markdown",
   "metadata": {},
   "source": [
    "### Process Annual Albedo Data"
   ]
  },
  {
   "cell_type": "code",
   "execution_count": 43,
   "metadata": {},
   "outputs": [],
   "source": [
    "# Select first year of the dataset \n",
    "annual_albedo_year_one = albedo_year_array[0,:,:]"
   ]
  },
  {
   "cell_type": "markdown",
   "metadata": {},
   "source": [
    "# Convert Datasets <a class=\"anchor\" id=\"bullet12\"></a> \n",
    "\n",
    "Now that we have successfully processed and subsetted both the snow cover and albedo datasets, we're ready to convert the arrays into GeoTIFFs and NetCDF formats. Converting snow cover and albedo data to GeoTIFFs allows us to embed geospatial information into the datasets. This allows mapping softwares, such as QGIS and ArcGIS, as well as Python mapping packages such as leafmap to interpret where the data is spatially. \n",
    "\n",
    "(See tutorial one for additional information regarding dataset geospatial information)\n",
    "\n",
    "## Packages<a class=\"anchor\" id=\"package3\"></a>"
   ]
  },
  {
   "cell_type": "code",
   "execution_count": 105,
   "metadata": {},
   "outputs": [],
   "source": [
    "from osgeo import gdal \n",
    "import os \n",
    "import rioxarray \n",
    "from rasterio.plot import show\n",
    "import rasterio"
   ]
  },
  {
   "cell_type": "markdown",
   "metadata": {},
   "source": [
    "## Define Geospatial Inputs <a class=\"anchor\" id=\"bullet3\"></a> "
   ]
  },
  {
   "cell_type": "code",
   "execution_count": 55,
   "metadata": {},
   "outputs": [],
   "source": [
    "# Note: Since relevant Geospatial Metadata is the same for snow cover and albedo, we can use the same inputs for functions below. \n",
    "\n",
    "# x dimension of array\n",
    "xdim = snow_data_array.shape[1]\n",
    "\n",
    "# y dimension of array\n",
    "ydim = snow_data_array.shape[2]\n",
    "\n",
    "# Projection data of sample GeoTiff\n",
    "# Note: No projection information is provided in the dataset metadata. As such, \n",
    "# projection data was pulled from: https://spatialreference.org/ref/sr-org/8568/html/\n",
    "projection = 'PROJCS[\"Albers Conical Equal Area\",GEOGCS[\"WGS 84\",DATUM[\"WGS_1984\",SPHEROID[\"WGS 84\",6378137,298.257223563,AUTHORITY[\"EPSG\",\"7030\"]],AUTHORITY[\"EPSG\",\"6326\"]],PRIMEM[\"Greenwich\",0],UNIT[\"degree\",0.0174532925199433,AUTHORITY[\"EPSG\",\"9122\"]],AUTHORITY[\"EPSG\",\"4326\"]],PROJECTION[\"Albers_Conic_Equal_Area\"],PARAMETER[\"latitude_of_center\",0],PARAMETER[\"longitude_of_center\",-120],PARAMETER[\"standard_parallel_1\",34],PARAMETER[\"standard_parallel_2\",40.5],PARAMETER[\"false_easting\",0],PARAMETER[\"false_northing\",-4000000],UNIT[\"meters\",1],AXIS[\"Easting\",EAST],AXIS[\"Northing\",NORTH]]'\n",
    "\n",
    "# Transformation data of array\n",
    "# Pulls referencing matrix from h5 file.\n",
    "# The referencing matrix is stored as string, so we need to split each value, the rearrange into the correct positions\n",
    "\n",
    "ref_matrix_meta = snow_data.GetMetadata()['Grid_MODIS_GRID_500m_ReferencingMatrix'].split()\n",
    "referencing_matrix = [int(ref_matrix_meta[2]), int(ref_matrix_meta[1]), int(ref_matrix_meta[0]), int(ref_matrix_meta[5]), int(ref_matrix_meta[4]), int(ref_matrix_meta[3])]"
   ]
  },
  {
   "cell_type": "markdown",
   "metadata": {},
   "source": [
    "## Convert Array to GeoTIFF <a class=\"anchor\" id=\"bullet13\"></a> \n",
    "\n",
    "This function allows us to covert a single array into a single raster layer with Albers Conical Equal Area projection information. "
   ]
  },
  {
   "cell_type": "code",
   "execution_count": 87,
   "metadata": {},
   "outputs": [],
   "source": [
    "# Define the variables needed to get the function to run. \n",
    "def SingleGeoTIFF(raster_name, data, height, width, geotransform, wkt):\n",
    "    # Set driver to 'GTiff' for Geotiffs\n",
    "    driver = gdal.GetDriverByName('GTiff')\n",
    "    # Create a GeoTIFF, where:\n",
    "    # name = raster name,\n",
    "    # width = 1st dim,\n",
    "    # height = 2nd dim,\n",
    "    # 1 = 3rd dim (effectively making it a two-dimensional object),\n",
    "    # GDT_Float32 = number format \n",
    "    dataset = driver.Create(\n",
    "        raster_name,\n",
    "        width,\n",
    "        height,\n",
    "        1,\n",
    "        gdal.GDT_Float32)\n",
    "\n",
    "    dataset.SetGeoTransform((\n",
    "     geotransform))\n",
    "\n",
    "    dataset.SetProjection(wkt)\n",
    "    dataset.GetRasterBand(1).WriteArray(data)\n",
    "    dataset.FlushCache()  # Write to disk.\n",
    "    return dataset, dataset.GetRasterBand(1) "
   ]
  },
  {
   "cell_type": "code",
   "execution_count": 88,
   "metadata": {},
   "outputs": [
    {
     "data": {
      "text/plain": [
       "(<osgeo.gdal.Dataset; proxy of <Swig Object of type 'GDALDatasetShadow *' at 0x00000153DA370DB0> >,\n",
       " <osgeo.gdal.Band; proxy of <Swig Object of type 'GDALRasterBandShadow *' at 0x00000153D3EA5840> >)"
      ]
     },
     "execution_count": 88,
     "metadata": {},
     "output_type": "execute_result"
    }
   ],
   "source": [
    "# Now that we've defined our function, we can input our variables and output a GeoTIFF. \n",
    "SingleGeoTIFF('snow_year_one_month_one.tif', snow_year_one_month_one, ydim, xdim, referencing_matrix, projection)"
   ]
  },
  {
   "cell_type": "markdown",
   "metadata": {},
   "source": [
    "Now that we've successfully created a geoTiff, let's see what it looks like. "
   ]
  },
  {
   "cell_type": "code",
   "execution_count": 104,
   "metadata": {},
   "outputs": [
    {
     "data": {
      "image/png": "[encoded data removed]",
      "text/plain": [
       "<Figure size 432x288 with 1 Axes>"
      ]
     },
     "metadata": {
      "needs_background": "light"
     },
     "output_type": "display_data"
    },
    {
     "data": {
      "text/plain": [
       "<AxesSubplot:>"
      ]
     },
     "execution_count": 104,
     "metadata": {},
     "output_type": "execute_result"
    }
   ],
   "source": [
    "# Read in TIF\n",
    "snow_vis = r'snow_year_one_month_one.tif'\n",
    "# Use rasterio to open newly created TIF \n",
    "img = rasterio.open(snow_vis)\n",
    "# Display image\n",
    "show(img)"
   ]
  },
  {
   "cell_type": "markdown",
   "metadata": {},
   "source": [
    "The shape of the image looks correct, but the x and y dimensions are still in Universal Transverse Mercator coordinate system (UTM), meaning that the values are being displayed in meters. Below, we'll convert to longitude and latitude for easier interpretability. \n"
   ]
  },
  {
   "cell_type": "markdown",
   "metadata": {},
   "source": [
    "## Convert Stacked Array into Multiple GeoTIFFs <a class=\"anchor\" id=\"bullet14\"></a> \n",
    "\n",
    "Now that we can convert a single layer into a single GeoTIFF, let's use the same function to for loop through the mean months of a single year. The output should be 12 geoTIFFs--one for each mean month of the year."
   ]
  },
  {
   "cell_type": "code",
   "execution_count": 69,
   "metadata": {},
   "outputs": [],
   "source": [
    "# Define the path you want your TIFFs to be downloaded to \n",
    "snow_year_one_transposed = np.transpose(snow_year_one, (1,2,0))\n",
    "path = '2001/months'\n",
    "for i in range(len(snow_year_one)):\n",
    "    # Define name of each tif\n",
    "    dest = ('month_' + str(i + 1) + '_year_2001.tif') \n",
    "    name = os.path.join(path, dest)\n",
    "    data = snow_year_one_transposed[:,:,i]\n",
    "    SingleGeoTIFF(name, data, ydim, xdim, referencing_matrix, projection)"
   ]
  },
  {
   "cell_type": "markdown",
   "metadata": {},
   "source": [
    "## Convert Stacked Array to GeoTIFF <a class=\"anchor\" id=\"bullet15\"></a> \n",
    "\n",
    "Now, let's convert a stacked array into a stacked GeoTIFF. We'll again use snow year one as our test array. "
   ]
  },
  {
   "cell_type": "code",
   "execution_count": 84,
   "metadata": {},
   "outputs": [],
   "source": [
    "def StackedGeoTIFF(name, data, geo_transform, projection):\n",
    "    \n",
    "    driver = gdal.GetDriverByName('GTiff')\n",
    "\n",
    "    DataSet = driver.Create(name, data.shape[2], data.shape[1], data.shape[0], gdal.GDT_Float32)\n",
    "    DataSet.SetGeoTransform(geo_transform)\n",
    "    DataSet.SetProjection(projection)\n",
    "    for i, image in enumerate(data, 1):\n",
    "        DataSet.GetRasterBand(i).WriteArray( image )\n",
    "    DataSet.FlushCache()\n",
    "    return name"
   ]
  },
  {
   "cell_type": "code",
   "execution_count": 71,
   "metadata": {},
   "outputs": [
    {
     "data": {
      "text/plain": [
       "'year_one_stack.tif'"
      ]
     },
     "execution_count": 71,
     "metadata": {},
     "output_type": "execute_result"
    }
   ],
   "source": [
    "StackedGeoTIFF('year_one_stack.tif', snow_year_one, referencing_matrix, projection)"
   ]
  },
  {
   "cell_type": "markdown",
   "metadata": {},
   "source": [
    "## Transform GeoTIFFS to WGS84 Coordinate System <a class=\"anchor\" id=\"bullet15\"></a> \n",
    "\n",
    "Most Python mapping packages require GeoTIFFs to be in World Geodetic System 84 (WGS84). Let's convert our newly created geoTIFFs to WGS84 format. "
   ]
  },
  {
   "cell_type": "code",
   "execution_count": 91,
   "metadata": {},
   "outputs": [],
   "source": [
    "\n",
    "# Change the following variables to the file you want to convert (inputfile)\n",
    "# and what you want to name your output file (outputfile)\n",
    "inputfile = \"snow_year_one_month_one.tif\"\n",
    "outputfile = \"wgs_snow_year_one_month_one.tif\"\n",
    "\n",
    "ds = gdal.Warp(outputfile, inputfile, dstSRS=\"+proj=longlat +datum=WGS84 +no_defs\", dstNodata = 0)"
   ]
  },
  {
   "cell_type": "markdown",
   "metadata": {},
   "source": [
    "In one line of code we are able to convert our geoTIFFs to WGS84 projection. Below, we'll use this GeoTIFF to plot on an interactive map using the leafmap package. Let's see what it looks like if were to plot it now. "
   ]
  },
  {
   "cell_type": "code",
   "execution_count": 99,
   "metadata": {},
   "outputs": [
    {
     "data": {
      "image/png": "[encoded data removed]",
      "text/plain": [
       "<Figure size 432x288 with 1 Axes>"
      ]
     },
     "metadata": {
      "needs_background": "light"
     },
     "output_type": "display_data"
    },
    {
     "data": {
      "text/plain": [
       "<AxesSubplot:>"
      ]
     },
     "execution_count": 99,
     "metadata": {},
     "output_type": "execute_result"
    }
   ],
   "source": [
    "# Read in TIF\n",
    "snow_vis = r'wgs_snow_year_one_month_one.tif'\n",
    "# Use rasterio to open newly created TIF \n",
    "img = rasterio.open(snow_vis)\n",
    "# Display image\n",
    "show(img)"
   ]
  },
  {
   "cell_type": "markdown",
   "metadata": {},
   "source": [
    "Notice that the shape of our image as changed slightly and our x and y dimensions are now in lat/long. Below, we'll try plotting this on an interactive map. "
   ]
  },
  {
   "cell_type": "markdown",
   "metadata": {},
   "source": [
    "## Transform GeoTIFF to NetCDF File <a class=\"anchor\" id=\"bullet16\"></a> \n",
    "\n",
    "We can just as easily transform our GeoTIFFs to NetCDF files using the '.to_netcdf' function in the rasterio package."
   ]
  },
  {
   "cell_type": "code",
   "execution_count": 92,
   "metadata": {},
   "outputs": [],
   "source": [
    "tiff = rioxarray.open_rasterio('wgs_snow_year_one_month_one.tif')\n",
    "tiff.to_netcdf('wgs_snow_year_one_month_one.nc')"
   ]
  },
  {
   "cell_type": "markdown",
   "metadata": {},
   "source": [
    "# Plot Rasters Using Leafmap <a class=\"anchor\" id=\"bullet17\"></a> \n",
    "\n",
    "Now that have created geoTIFFs with WGS84 projection, we're ready to plot our rasters onto an interactive map using the leafmap Python package.\n",
    "\n",
    "## Packages<a class=\"anchor\" id=\"package4\"></a> "
   ]
  },
  {
   "cell_type": "code",
   "execution_count": null,
   "metadata": {},
   "outputs": [],
   "source": [
    "import leafmap "
   ]
  },
  {
   "cell_type": "code",
   "execution_count": null,
   "metadata": {},
   "outputs": [],
   "source": [
    "# layer_one = (\"wgs_test4.tif\")\n",
    "# m = leafmap.Map(draw_control=False, layers_control=True)\n",
    "# m.add_raster(input_one, colormap='terrain', layer_name='layer_one')\n",
    "# m"
   ]
  },
  {
   "cell_type": "markdown",
   "metadata": {},
   "source": [
    "## What's Next\n",
    "\n",
    "In the next tutorial (ST_03_Interactive_Charts), we'll be calculating total snow cover extent and albedo percentages for each year, performing basic statistical analysis of each dataset, and developing interactive figures to compare yearly snow cover and albedo percentages.\n",
    "\n",
    "\n",
    "For additional information regarding how snow and albedo datasets were created, please visit: https://nsidc.org/reports/snow-today"
   ]
  }
 ],
 "metadata": {
  "interpreter": {
   "hash": "9f8ec023125955694afecabdb60f8f7793034f7195113bf89c3acca569b59bf5"
  },
  "kernelspec": {
   "display_name": "Python 3",
   "language": "python",
   "name": "python3"
  },
  "language_info": {
   "codemirror_mode": {
    "name": "ipython",
    "version": 3
   },
   "file_extension": ".py",
   "mimetype": "text/x-python",
   "name": "python",
   "nbconvert_exporter": "python",
   "pygments_lexer": "ipython3",
   "version": "3.8.8"
  }
 },
 "nbformat": 4,
 "nbformat_minor": 4
}
