{
 "cells": [
  {
   "cell_type": "markdown",
   "id": "1d5e51ef-568f-43fd-9f5c-739a1023835e",
   "metadata": {},
   "source": [
    "# How to Read and Explore HDF5 Files with Python\n",
    "This tutorial uses snow cover fraction and snow albedo data from...\n",
    "\n",
    "Start by importing libraries"
   ]
  },
  {
   "cell_type": "code",
   "execution_count": 1,
   "id": "5d2b7b83-9797-480d-9bbc-88352e40ee10",
   "metadata": {},
   "outputs": [],
   "source": [
    "import h5py\n",
    "import matplotlib.pyplot as plt\n",
    "from osgeo import gdal\n",
    "import glob\n",
    "import numpy as np\n",
    "\n",
    "import rioxarray\n",
    "from rioxarray._options import EXPORT_GRID_MAPPING, get_option\n",
    "from rioxarray.crs import crs_from_user_input\n",
    "from rioxarray.exceptions import(\n",
    "    DimensionError,\n",
    "    DimensionMissingCoordinateError,\n",
    "    InvalidDimensionOrder,\n",
    "    MissingCRS,\n",
    "    MissingSpatialDimensionError,\n",
    "    NoDataInBounds,\n",
    "    OneDimensionalRaster,\n",
    "    RioXarrayError,\n",
    "    TooManyDimensions,\n",
    ")\n",
    "\n",
    "import rasterio\n",
    "from rasterio.control import GroundControlPoint\n",
    "from rasterio.crs import CRS\n",
    "\n",
    "from pyproj import Transformer\n",
    "import earthpy as et\n",
    "from affine import Affine"
   ]
  },
  {
   "cell_type": "markdown",
   "id": "0f2b4188-815c-48e1-8d58-70d53f3b97c4",
   "metadata": {},
   "source": [
    "* [Method 1 - h5py](#h5py)\n",
    "* [Combine all files with glob](#glob)\n",
    "* [Method 2 - GDAL](#gdal)\n",
    "* [Method 3 - Rasterio](#rasterio)\n",
    "* [Method 4 - rioxarray](#rioxarray)\n",
    "* [Add a CRS](#crs)"
   ]
  },
  {
   "cell_type": "markdown",
   "id": "43d7f16f-f147-487b-9b6c-707189541f05",
   "metadata": {},
   "source": [
    "## Method 1 - h5py <a class=\"anchor\" id=\"h5py\"></a>"
   ]
  },
  {
   "cell_type": "code",
   "execution_count": 3,
   "id": "bb03df50-00db-4006-a4b8-c993296bb8c6",
   "metadata": {},
   "outputs": [],
   "source": [
    "sierra2014_albedo = h5py.File('../../data/albedo_data/SierraAlbedo2014.h5', 'r')\n",
    "sierra2014_snow_frac = h5py.File('../../data/snow_fraction_data/Sierra2014.h5', 'r')"
   ]
  },
  {
   "cell_type": "markdown",
   "id": "5ff79c98-64d3-4654-9ea6-5564a91641ea",
   "metadata": {},
   "source": [
    "Call the file"
   ]
  },
  {
   "cell_type": "code",
   "execution_count": 4,
   "id": "f0fe9f7e-528f-468f-a28b-153b479807fd",
   "metadata": {},
   "outputs": [
    {
     "data": {
      "text/plain": [
       "<HDF5 file \"SierraAlbedo2014.h5\" (mode r)>"
      ]
     },
     "execution_count": 4,
     "metadata": {},
     "output_type": "execute_result"
    }
   ],
   "source": [
    "sierra2014_albedo"
   ]
  },
  {
   "cell_type": "code",
   "execution_count": 28,
   "id": "5a35ece6-85f1-4efd-968d-3fb976432f91",
   "metadata": {},
   "outputs": [
    {
     "data": {
      "text/plain": [
       "<HDF5 file \"Sierra2014.h5\" (mode r)>"
      ]
     },
     "execution_count": 28,
     "metadata": {},
     "output_type": "execute_result"
    }
   ],
   "source": [
    "sierra2014_snow_frac"
   ]
  },
  {
   "cell_type": "markdown",
   "id": "df01d083-8a6a-409e-b705-f01bcba39f7c",
   "metadata": {},
   "source": [
    "Get the type of file"
   ]
  },
  {
   "cell_type": "code",
   "execution_count": 29,
   "id": "bea2b25f-ab08-41fc-89ec-58e94105ecd1",
   "metadata": {},
   "outputs": [
    {
     "data": {
      "text/plain": [
       "h5py._hl.files.File"
      ]
     },
     "execution_count": 29,
     "metadata": {},
     "output_type": "execute_result"
    }
   ],
   "source": [
    "type(sierra2014_albedo)"
   ]
  },
  {
   "cell_type": "code",
   "execution_count": 30,
   "id": "abbbca83-b8ec-4b34-86fb-ff8c92ba02a0",
   "metadata": {},
   "outputs": [
    {
     "data": {
      "text/plain": [
       "['Grid']"
      ]
     },
     "execution_count": 30,
     "metadata": {},
     "output_type": "execute_result"
    }
   ],
   "source": [
    "list(sierra2014_albedo)"
   ]
  },
  {
   "cell_type": "code",
   "execution_count": 31,
   "id": "acc33e0d-91ea-48a0-ac43-324c8d458f56",
   "metadata": {},
   "outputs": [
    {
     "data": {
      "text/plain": [
       "['Grid']"
      ]
     },
     "execution_count": 31,
     "metadata": {},
     "output_type": "execute_result"
    }
   ],
   "source": [
    "list(sierra2014_snow_frac)"
   ]
  },
  {
   "cell_type": "code",
   "execution_count": 32,
   "id": "486de08a-9993-4498-8d2a-827a5ff355b7",
   "metadata": {},
   "outputs": [
    {
     "data": {
      "text/plain": [
       "['Grid']"
      ]
     },
     "execution_count": 32,
     "metadata": {},
     "output_type": "execute_result"
    }
   ],
   "source": [
    "# Display contents of file using \"keys\" \n",
    "list(sierra2014_albedo.keys())"
   ]
  },
  {
   "cell_type": "code",
   "execution_count": 33,
   "id": "303145a5-5979-45c2-b828-0e74e10bbb5b",
   "metadata": {},
   "outputs": [
    {
     "data": {
      "text/plain": [
       "['Grid']"
      ]
     },
     "execution_count": 33,
     "metadata": {},
     "output_type": "execute_result"
    }
   ],
   "source": [
    "list(sierra2014_snow_frac.keys())"
   ]
  },
  {
   "cell_type": "code",
   "execution_count": 34,
   "id": "ab48535f-281d-4034-bf74-30815f471208",
   "metadata": {},
   "outputs": [],
   "source": [
    "# Assign a variable to contain the Grid object\n",
    "dset_sierra2014_albedo = sierra2014_albedo['Grid']"
   ]
  },
  {
   "cell_type": "code",
   "execution_count": 35,
   "id": "802fc394-27c3-479a-a3fe-57e42659d6a1",
   "metadata": {},
   "outputs": [
    {
     "data": {
      "text/plain": [
       "<KeysViewHDF5 ['MODIS_GRID_500m']>"
      ]
     },
     "execution_count": 35,
     "metadata": {},
     "output_type": "execute_result"
    }
   ],
   "source": [
    "# Figure out what fields are contained in the Grid object\n",
    "dset_sierra2014_albedo.keys()"
   ]
  },
  {
   "cell_type": "code",
   "execution_count": 41,
   "id": "c9246fb5-d465-486b-a6b0-5ec910aa9087",
   "metadata": {},
   "outputs": [
    {
     "data": {
      "text/plain": [
       "<KeysViewHDF5 ['MODIS_GRID_500m']>"
      ]
     },
     "execution_count": 41,
     "metadata": {},
     "output_type": "execute_result"
    }
   ],
   "source": [
    "dset_sierra2014_snow_frac = sierra2014_snow_frac['Grid']\n",
    "dset_sierra2014_snow_frac.keys()"
   ]
  },
  {
   "cell_type": "code",
   "execution_count": 49,
   "id": "cb532efe-b944-41bf-9c28-f9a760e66c9d",
   "metadata": {},
   "outputs": [
    {
     "name": "stdout",
     "output_type": "stream",
     "text": [
      "angleunits\n",
      "degrees\n",
      "aspect\n",
      "normal\n",
      "falseeasting\n",
      "[0.]\n",
      "falsenorthing\n",
      "[-4000000.]\n",
      "geoid\n",
      "[6.37813700e+06 8.18191908e-02]\n",
      "maplatlimit\n",
      "[-90.  90.]\n",
      "maplonlimit\n",
      "[-255.   15.]\n",
      "mapparallels\n",
      "[34.  40.5]\n",
      "mapprojection\n",
      "eqaconicstd\n",
      "nparallels\n",
      "[2.]\n",
      "origin\n",
      "[   0. -120.    0.]\n",
      "scalefactor\n",
      "[1.]\n",
      "trimlat\n",
      "[-90.  90.]\n",
      "trimlon\n",
      "[-135.  135.]\n"
     ]
    }
   ],
   "source": [
    "# What metadata is available in \"Grid\"? Use keys again, this time applied to the attributes, to see\n",
    "for att in dset_sierra2014_albedo.attrs.keys():\n",
    "    # name of attribute\n",
    "    print (att)\n",
    "    # value of attribute\n",
    "    print (dset_sierra2014_albedo.attrs[att])"
   ]
  },
  {
   "cell_type": "code",
   "execution_count": 50,
   "id": "9844beba-363c-4d2d-afa8-66330299f54f",
   "metadata": {},
   "outputs": [
    {
     "name": "stdout",
     "output_type": "stream",
     "text": [
      "angleunits\n",
      "b'degrees'\n",
      "aspect\n",
      "b'normal'\n",
      "falseeasting\n",
      "[0.]\n",
      "falsenorthing\n",
      "[-4000000.]\n",
      "geoid\n",
      "[6.37813700e+06 8.18191908e-02]\n",
      "maplatlimit\n",
      "[-90.  90.]\n",
      "maplonlimit\n",
      "[-255.   15.]\n",
      "mapparallels\n",
      "[34.  40.5]\n",
      "mapprojection\n",
      "b'eqaconicstd'\n",
      "nparallels\n",
      "[2.]\n",
      "origin\n",
      "[   0. -120.    0.]\n",
      "scalefactor\n",
      "[1.]\n",
      "trimlat\n",
      "[-90.  90.]\n",
      "trimlon\n",
      "[-135.  135.]\n"
     ]
    }
   ],
   "source": [
    "for att in dset_sierra2014_snow_frac.attrs.keys():\n",
    "    # name of attribute\n",
    "    print (att)\n",
    "    # value of attribute\n",
    "    print (dset_sierra2014_snow_frac.attrs[att])"
   ]
  },
  {
   "cell_type": "code",
   "execution_count": 56,
   "id": "e4ff37d9-8532-4cf9-b676-d8fde5c12869",
   "metadata": {},
   "outputs": [
    {
     "name": "stdout",
     "output_type": "stream",
     "text": [
      "albedo\n"
     ]
    }
   ],
   "source": [
    "# Store all the different datasets in individual objects so they can be manipulated separately\n",
    "# (in this case there's only one so the loop isn't super necessary, but included for completeness)\n",
    "for ds in dset_sierra2014_albedo['MODIS_GRID_500m'].keys():      \n",
    "        print (ds)\n",
    "        ds_albedo_data = dset_sierra2014_albedo['MODIS_GRID_500m'][ds] # returns HDF5 dataset object"
   ]
  },
  {
   "cell_type": "code",
   "execution_count": 58,
   "id": "f3749ad1-eb47-4b5b-af68-d4c8224c0020",
   "metadata": {},
   "outputs": [
    {
     "data": {
      "text/plain": [
       "<KeysViewHDF5 ['divisor']>"
      ]
     },
     "execution_count": 58,
     "metadata": {},
     "output_type": "execute_result"
    }
   ],
   "source": [
    "ds_albedo_data.attrs.keys()"
   ]
  },
  {
   "cell_type": "code",
   "execution_count": 59,
   "id": "e1f7be16-b87f-4980-b9c9-e3e468c46a17",
   "metadata": {},
   "outputs": [
    {
     "name": "stdout",
     "output_type": "stream",
     "text": [
      "dust\n",
      "grain_size\n",
      "raw_snow_fraction\n",
      "snow_fraction\n"
     ]
    }
   ],
   "source": [
    "for ds in dset_sierra2014_snow_frac['MODIS_GRID_500m'].keys():      \n",
    "        print (ds)\n",
    "        ds_snow_frac_data = dset_sierra2014_snow_frac['MODIS_GRID_500m'][ds] # returns HDF5 dataset object"
   ]
  },
  {
   "cell_type": "code",
   "execution_count": 60,
   "id": "0422bc3a-f3c0-407c-b35b-11f5cc11d03f",
   "metadata": {},
   "outputs": [
    {
     "data": {
      "text/plain": [
       "<KeysViewHDF5 ['divisor']>"
      ]
     },
     "execution_count": 60,
     "metadata": {},
     "output_type": "execute_result"
    }
   ],
   "source": [
    "ds_snow_frac_data.attrs.keys()"
   ]
  },
  {
   "cell_type": "code",
   "execution_count": 63,
   "id": "e6397d2a-31d0-4721-92ac-1265a31fdab5",
   "metadata": {},
   "outputs": [
    {
     "data": {
      "text/plain": [
       "<HDF5 dataset \"albedo\": shape (365, 1334, 1841), type \"<u2\">"
      ]
     },
     "execution_count": 63,
     "metadata": {},
     "output_type": "execute_result"
    }
   ],
   "source": [
    "ds_albedo_data"
   ]
  },
  {
   "cell_type": "code",
   "execution_count": 62,
   "id": "262ce279-ac5c-45ad-beda-368df3e073c2",
   "metadata": {},
   "outputs": [
    {
     "data": {
      "text/plain": [
       "<HDF5 dataset \"snow_fraction\": shape (365, 1334, 1841), type \"|u1\">"
      ]
     },
     "execution_count": 62,
     "metadata": {},
     "output_type": "execute_result"
    }
   ],
   "source": [
    "ds_snow_frac_data"
   ]
  },
  {
   "cell_type": "code",
   "execution_count": 5,
   "id": "6e229b47-6828-40fe-ad05-67b08046ac9c",
   "metadata": {},
   "outputs": [
    {
     "name": "stdout",
     "output_type": "stream",
     "text": [
      "List of datasets in this file: \n",
      " ['Grid']\n",
      "Shape of dataset1: \n",
      " ()\n"
     ]
    }
   ],
   "source": [
    "# xxx\n",
    "with h5py.File('../../data/snow_fraction_data/Sierra2019.h5', 'r') as sierra2019:\n",
    "    ls = list(sierra2019.keys())\n",
    "    print('List of datasets in this file: \\n', ls)\n",
    "    data = sierra2019.get('dataset1')\n",
    "    dataset1 = np.array(data)\n",
    "    print('Shape of dataset1: \\n', dataset1.shape)"
   ]
  },
  {
   "cell_type": "markdown",
   "id": "eb9b9ff2-c34f-4a2d-bba3-47abc4765f7f",
   "metadata": {
    "tags": []
   },
   "source": [
    "## Combine all files with glob <a class=\"anchor\" id=\"glob\"></a>"
   ]
  },
  {
   "cell_type": "code",
   "execution_count": 8,
   "id": "491942ef-57b3-43bc-8d99-85eb0d93a895",
   "metadata": {},
   "outputs": [
    {
     "data": {
      "text/plain": [
       "['data/snow_fraction_data/Sierra2015.h5',\n",
       " 'data/snow_fraction_data/Sierra2005.h5',\n",
       " 'data/snow_fraction_data/Sierra2011.h5',\n",
       " 'data/snow_fraction_data/Sierra2001.h5',\n",
       " 'data/snow_fraction_data/Sierra2010.h5',\n",
       " 'data/snow_fraction_data/Sierra2014.h5',\n",
       " 'data/snow_fraction_data/Sierra2004.h5',\n",
       " 'data/snow_fraction_data/Sierra2013.h5',\n",
       " 'data/snow_fraction_data/Sierra2003.h5',\n",
       " 'data/snow_fraction_data/Sierra2017.h5',\n",
       " 'data/snow_fraction_data/Sierra2007.h5',\n",
       " 'data/snow_fraction_data/Sierra2016.h5',\n",
       " 'data/snow_fraction_data/Sierra2006.h5',\n",
       " 'data/snow_fraction_data/Sierra2012.h5',\n",
       " 'data/snow_fraction_data/Sierra2002.h5',\n",
       " 'data/snow_fraction_data/Sierra2019.h5',\n",
       " 'data/snow_fraction_data/Sierra2009.h5',\n",
       " 'data/snow_fraction_data/Sierra2018.h5',\n",
       " 'data/snow_fraction_data/Sierra2008.h5']"
      ]
     },
     "execution_count": 8,
     "metadata": {},
     "output_type": "execute_result"
    }
   ],
   "source": [
    "all_snow_fraction = glob.glob('data/snow_fraction_data/*.h5')\n",
    "all_snow_fraction"
   ]
  },
  {
   "cell_type": "markdown",
   "id": "8b7b6752-87cf-4d5d-9316-fc16094f7452",
   "metadata": {},
   "source": [
    "## Method 2 - GDAL <a class=\"anchor\" id=\"gdal\"></a>"
   ]
  },
  {
   "cell_type": "code",
   "execution_count": 7,
   "id": "7143ba82-a696-4416-8836-0c8cf3fd5cee",
   "metadata": {},
   "outputs": [],
   "source": [
    "sierra2015_albedo = gdal.Open(\"../../data/albedo_data/SierraAlbedo2015.h5\", gdal.GA_ReadOnly)"
   ]
  },
  {
   "cell_type": "code",
   "execution_count": 14,
   "id": "289dbdc2-2dbe-4e80-8545-696c339d6c33",
   "metadata": {},
   "outputs": [],
   "source": [
    "#sierra2015_albedo.GetSubDatasets()"
   ]
  },
  {
   "cell_type": "markdown",
   "id": "e7417eab-b45d-4495-9a24-4525bc18afb9",
   "metadata": {},
   "source": [
    "Read the data as an array"
   ]
  },
  {
   "cell_type": "code",
   "execution_count": 11,
   "id": "5e62c845-77aa-4013-a324-0be6853ab57f",
   "metadata": {},
   "outputs": [],
   "source": [
    "sierra2015_albedo_array = sierra2015_albedo.ReadAsArray()"
   ]
  },
  {
   "cell_type": "code",
   "execution_count": 12,
   "id": "262dbd1b-c573-4017-b495-1211bbd5ee20",
   "metadata": {},
   "outputs": [
    {
     "data": {
      "text/plain": [
       "numpy.ndarray"
      ]
     },
     "execution_count": 12,
     "metadata": {},
     "output_type": "execute_result"
    }
   ],
   "source": [
    "type(sierra2015_albedo_array)"
   ]
  },
  {
   "cell_type": "code",
   "execution_count": 13,
   "id": "62faa0b9-9f1a-4f3f-8a60-7bbad345b428",
   "metadata": {},
   "outputs": [
    {
     "data": {
      "text/plain": [
       "array([[[65535, 65535, 65535, ..., 65535, 65535, 65535],\n",
       "        [65535, 65535, 65535, ..., 65535, 65535, 65535],\n",
       "        [65535, 65535, 65535, ..., 65535, 65535, 65535],\n",
       "        ...,\n",
       "        [65535, 65535, 65535, ..., 65535, 65535, 65535],\n",
       "        [65535, 65535, 65535, ..., 65535, 65535, 65535],\n",
       "        [65535, 65535, 65535, ..., 65535, 65535, 65535]],\n",
       "\n",
       "       [[65535, 65535, 65535, ..., 65535, 65535, 65535],\n",
       "        [65535, 65535, 65535, ..., 65535, 65535, 65535],\n",
       "        [65535, 65535, 65535, ..., 65535, 65535, 65535],\n",
       "        ...,\n",
       "        [65535, 65535, 65535, ..., 65535, 65535, 65535],\n",
       "        [65535, 65535, 65535, ..., 65535, 65535, 65535],\n",
       "        [65535, 65535, 65535, ..., 65535, 65535, 65535]],\n",
       "\n",
       "       [[65535, 65535, 65535, ..., 65535, 65535, 65535],\n",
       "        [65535, 65535, 65535, ..., 65535, 65535, 65535],\n",
       "        [65535, 65535, 65535, ..., 65535, 65535, 65535],\n",
       "        ...,\n",
       "        [65535, 65535, 65535, ..., 65535, 65535, 65535],\n",
       "        [65535, 65535, 65535, ..., 65535, 65535, 65535],\n",
       "        [65535, 65535, 65535, ..., 65535, 65535, 65535]],\n",
       "\n",
       "       ...,\n",
       "\n",
       "       [[65535, 65535, 65535, ..., 65535, 65535, 65535],\n",
       "        [65535, 65535, 65535, ..., 65535, 65535, 65535],\n",
       "        [65535, 65535, 65535, ..., 65535, 65535, 65535],\n",
       "        ...,\n",
       "        [65535, 65535, 65535, ..., 65535, 65535, 65535],\n",
       "        [65535, 65535, 65535, ..., 65535, 65535, 65535],\n",
       "        [65535, 65535, 65535, ..., 65535, 65535, 65535]],\n",
       "\n",
       "       [[65535, 65535, 65535, ..., 65535, 65535, 65535],\n",
       "        [65535, 65535, 65535, ..., 65535, 65535, 65535],\n",
       "        [65535, 65535, 65535, ..., 65535, 65535, 65535],\n",
       "        ...,\n",
       "        [65535, 65535, 65535, ..., 65535, 65535, 65535],\n",
       "        [65535, 65535, 65535, ..., 65535, 65535, 65535],\n",
       "        [65535, 65535, 65535, ..., 65535, 65535, 65535]],\n",
       "\n",
       "       [[65535, 65535, 65535, ..., 65535, 65535, 65535],\n",
       "        [65535, 65535, 65535, ..., 65535, 65535, 65535],\n",
       "        [65535, 65535, 65535, ..., 65535, 65535, 65535],\n",
       "        ...,\n",
       "        [65535, 65535, 65535, ..., 65535, 65535, 65535],\n",
       "        [65535, 65535, 65535, ..., 65535, 65535, 65535],\n",
       "        [65535, 65535, 65535, ..., 65535, 65535, 65535]]], dtype=uint16)"
      ]
     },
     "execution_count": 13,
     "metadata": {},
     "output_type": "execute_result"
    }
   ],
   "source": [
    "sierra2015_albedo_array[:10]"
   ]
  },
  {
   "cell_type": "markdown",
   "id": "b69a4c6b-1f81-402e-94ee-c178c4a3788b",
   "metadata": {},
   "source": [
    "Get the shape of the array"
   ]
  },
  {
   "cell_type": "code",
   "execution_count": 15,
   "id": "91d1e15a-a7b6-4dc4-8176-2288cfc83ac1",
   "metadata": {},
   "outputs": [
    {
     "data": {
      "text/plain": [
       "(365, 1334, 1841)"
      ]
     },
     "execution_count": 15,
     "metadata": {},
     "output_type": "execute_result"
    }
   ],
   "source": [
    "sierra2015_albedo_array.shape"
   ]
  },
  {
   "cell_type": "markdown",
   "id": "128d6679-52fd-40ec-b4e2-ee2d6b519f13",
   "metadata": {},
   "source": [
    "Get the value from the 300th day and the 1000th pixel in the x direction and the 1500th pixel in the y direction"
   ]
  },
  {
   "cell_type": "code",
   "execution_count": 20,
   "id": "ba48c3d6-bf2a-4697-8d6e-644c06dfa437",
   "metadata": {},
   "outputs": [
    {
     "data": {
      "text/plain": [
       "65535"
      ]
     },
     "execution_count": 20,
     "metadata": {},
     "output_type": "execute_result"
    }
   ],
   "source": [
    "sierra2015_albedo_array[300][1000][1500]"
   ]
  },
  {
   "cell_type": "code",
   "execution_count": 8,
   "id": "38a3bc01-cb64-41e5-8381-3747c72f2409",
   "metadata": {},
   "outputs": [
    {
     "name": "stdout",
     "output_type": "stream",
     "text": [
      "{'Grid_angleunits': 'degrees', 'Grid_aspect': 'normal', 'Grid_falseeasting': '0 ', 'Grid_falsenorthing': '-4000000 ', 'Grid_geoid': '6378137 0.0818191908426215 ', 'Grid_maplatlimit': '-90 90 ', 'Grid_maplonlimit': '-255 15 ', 'Grid_mapparallels': '34 40.5 ', 'Grid_mapprojection': 'eqaconicstd', 'Grid_MODIS_GRID_500m_dust_divisor': '10 ', 'Grid_MODIS_GRID_500m_grain_size_divisor': '1 ', 'Grid_MODIS_GRID_500m_raw_snow_fraction_divisor': '100 ', 'Grid_MODIS_GRID_500m_ReferencingMatrix': '0 500 -285750 -500 0 500250 ', 'Grid_MODIS_GRID_500m_snow_fraction_divisor': '100 ', 'Grid_nparallels': '2 ', 'Grid_origin': '0 -120 0 ', 'Grid_scalefactor': '1 ', 'Grid_trimlat': '-90 90 ', 'Grid_trimlon': '-135 135 ', 'ISOdates': '2017274 2017275 2017276 2017277 2017278 2017279 2017280 2017281 2017282 2017283 2017284 2017285 2017286 2017287 2017288 2017289 2017290 2017291 2017292 2017293 2017294 2017295 2017296 2017297 2017298 2017299 2017300 2017301 2017302 2017303 2017304 2017305 2017306 2017307 2017308 2017309 2017310 2017311 2017312 2017313 2017314 2017315 2017316 2017317 2017318 2017319 2017320 2017321 2017322 2017323 2017324 2017325 2017326 2017327 2017328 2017329 2017330 2017331 2017332 2017333 2017334 2017335 2017336 2017337 2017338 2017339 2017340 2017341 2017342 2017343 2017344 2017345 2017346 2017347 2017348 2017349 2017350 2017351 2017352 2017353 2017354 2017355 2017356 2017357 2017358 2017359 2017360 2017361 2017362 2017363 2017364 2017365 2018001 2018002 2018003 2018004 2018005 2018006 2018007 2018008 2018009 2018010 2018011 2018012 2018013 2018014 2018015 2018016 2018017 2018018 2018019 2018020 2018021 2018022 2018023 2018024 2018025 2018026 2018027 2018028 2018029 2018030 2018031 2018032 2018033 2018034 2018035 2018036 2018037 2018038 2018039 2018040 2018041 2018042 2018043 2018044 2018045 2018046 2018047 2018048 2018049 2018050 2018051 2018052 2018053 2018054 2018055 2018056 2018057 2018058 2018059 2018060 2018061 2018062 2018063 2018064 2018065 2018066 2018067 2018068 2018069 2018070 2018071 2018072 2018073 2018074 2018075 2018076 2018077 2018078 2018079 2018080 2018081 2018082 2018083 2018084 2018085 2018086 2018087 2018088 2018089 2018090 2018091 2018092 2018093 2018094 2018095 2018096 2018097 2018098 2018099 2018100 2018101 2018102 2018103 2018104 2018105 2018106 2018107 2018108 2018109 2018110 2018111 2018112 2018113 2018114 2018115 2018116 2018117 2018118 2018119 2018120 2018121 2018122 2018123 2018124 2018125 2018126 2018127 2018128 2018129 2018130 2018131 2018132 2018133 2018134 2018135 2018136 2018137 2018138 2018139 2018140 2018141 2018142 2018143 2018144 2018145 2018146 2018147 2018148 2018149 2018150 2018151 2018152 2018153 2018154 2018155 2018156 2018157 2018158 2018159 2018160 2018161 2018162 2018163 2018164 2018165 2018166 2018167 2018168 2018169 2018170 2018171 2018172 2018173 2018174 2018175 2018176 2018177 2018178 2018179 2018180 2018181 2018182 2018183 2018184 2018185 2018186 2018187 2018188 2018189 2018190 2018191 2018192 2018193 2018194 2018195 2018196 2018197 2018198 2018199 2018200 2018201 2018202 2018203 2018204 2018205 2018206 2018207 2018208 2018209 2018210 2018211 2018212 2018213 2018214 2018215 2018216 2018217 2018218 2018219 2018220 2018221 2018222 2018223 2018224 2018225 2018226 2018227 2018228 2018229 2018230 2018231 2018232 2018233 2018234 2018235 2018236 2018237 2018238 2018239 2018240 2018241 2018242 2018243 2018244 2018245 2018246 2018247 2018248 2018249 2018250 2018251 2018252 2018253 2018254 2018255 2018256 2018257 2018258 2018259 2018260 2018261 2018262 2018263 2018264 2018265 2018266 2018267 2018268 2018269 2018270 2018271 2018272 2018273 ', 'MATLABdates': '736969 736970 736971 736972 736973 736974 736975 736976 736977 736978 736979 736980 736981 736982 736983 736984 736985 736986 736987 736988 736989 736990 736991 736992 736993 736994 736995 736996 736997 736998 736999 737000 737001 737002 737003 737004 737005 737006 737007 737008 737009 737010 737011 737012 737013 737014 737015 737016 737017 737018 737019 737020 737021 737022 737023 737024 737025 737026 737027 737028 737029 737030 737031 737032 737033 737034 737035 737036 737037 737038 737039 737040 737041 737042 737043 737044 737045 737046 737047 737048 737049 737050 737051 737052 737053 737054 737055 737056 737057 737058 737059 737060 737061 737062 737063 737064 737065 737066 737067 737068 737069 737070 737071 737072 737073 737074 737075 737076 737077 737078 737079 737080 737081 737082 737083 737084 737085 737086 737087 737088 737089 737090 737091 737092 737093 737094 737095 737096 737097 737098 737099 737100 737101 737102 737103 737104 737105 737106 737107 737108 737109 737110 737111 737112 737113 737114 737115 737116 737117 737118 737119 737120 737121 737122 737123 737124 737125 737126 737127 737128 737129 737130 737131 737132 737133 737134 737135 737136 737137 737138 737139 737140 737141 737142 737143 737144 737145 737146 737147 737148 737149 737150 737151 737152 737153 737154 737155 737156 737157 737158 737159 737160 737161 737162 737163 737164 737165 737166 737167 737168 737169 737170 737171 737172 737173 737174 737175 737176 737177 737178 737179 737180 737181 737182 737183 737184 737185 737186 737187 737188 737189 737190 737191 737192 737193 737194 737195 737196 737197 737198 737199 737200 737201 737202 737203 737204 737205 737206 737207 737208 737209 737210 737211 737212 737213 737214 737215 737216 737217 737218 737219 737220 737221 737222 737223 737224 737225 737226 737227 737228 737229 737230 737231 737232 737233 737234 737235 737236 737237 737238 737239 737240 737241 737242 737243 737244 737245 737246 737247 737248 737249 737250 737251 737252 737253 737254 737255 737256 737257 737258 737259 737260 737261 737262 737263 737264 737265 737266 737267 737268 737269 737270 737271 737272 737273 737274 737275 737276 737277 737278 737279 737280 737281 737282 737283 737284 737285 737286 737287 737288 737289 737290 737291 737292 737293 737294 737295 737296 737297 737298 737299 737300 737301 737302 737303 737304 737305 737306 737307 737308 737309 737310 737311 737312 737313 737314 737315 737316 737317 737318 737319 737320 737321 737322 737323 737324 737325 737326 737327 737328 737329 737330 737331 737332 737333 '}\n"
     ]
    }
   ],
   "source": [
    "sierra2018 = gdal.Open('../../data/snow_fraction_data/Sierra2018.h5')\n",
    "print(sierra2018.GetMetadata())"
   ]
  },
  {
   "cell_type": "code",
   "execution_count": 103,
   "id": "b0051270-f97d-4fd2-b939-a07226bc20d5",
   "metadata": {},
   "outputs": [
    {
     "data": {
      "text/plain": [
       "{'Grid_angleunits': 'degrees',\n",
       " 'Grid_aspect': 'normal',\n",
       " 'Grid_falseeasting': '0 ',\n",
       " 'Grid_falsenorthing': '-4000000 ',\n",
       " 'Grid_geoid': '6378137 0.0818191908426215 ',\n",
       " 'Grid_maplatlimit': '-90 90 ',\n",
       " 'Grid_maplonlimit': '-255 15 ',\n",
       " 'Grid_mapparallels': '34 40.5 ',\n",
       " 'Grid_mapprojection': 'eqaconicstd',\n",
       " 'Grid_MODIS_GRID_500m_dust_divisor': '10 ',\n",
       " 'Grid_MODIS_GRID_500m_grain_size_divisor': '1 ',\n",
       " 'Grid_MODIS_GRID_500m_raw_snow_fraction_divisor': '100 ',\n",
       " 'Grid_MODIS_GRID_500m_ReferencingMatrix': '0 500 -285750 -500 0 500250 ',\n",
       " 'Grid_MODIS_GRID_500m_snow_fraction_divisor': '100 ',\n",
       " 'Grid_nparallels': '2 ',\n",
       " 'Grid_origin': '0 -120 0 ',\n",
       " 'Grid_scalefactor': '1 ',\n",
       " 'Grid_trimlat': '-90 90 ',\n",
       " 'Grid_trimlon': '-135 135 ',\n",
       " 'ISOdates': '2017274 2017275 2017276 2017277 2017278 2017279 2017280 2017281 2017282 2017283 2017284 2017285 2017286 2017287 2017288 2017289 2017290 2017291 2017292 2017293 2017294 2017295 2017296 2017297 2017298 2017299 2017300 2017301 2017302 2017303 2017304 2017305 2017306 2017307 2017308 2017309 2017310 2017311 2017312 2017313 2017314 2017315 2017316 2017317 2017318 2017319 2017320 2017321 2017322 2017323 2017324 2017325 2017326 2017327 2017328 2017329 2017330 2017331 2017332 2017333 2017334 2017335 2017336 2017337 2017338 2017339 2017340 2017341 2017342 2017343 2017344 2017345 2017346 2017347 2017348 2017349 2017350 2017351 2017352 2017353 2017354 2017355 2017356 2017357 2017358 2017359 2017360 2017361 2017362 2017363 2017364 2017365 2018001 2018002 2018003 2018004 2018005 2018006 2018007 2018008 2018009 2018010 2018011 2018012 2018013 2018014 2018015 2018016 2018017 2018018 2018019 2018020 2018021 2018022 2018023 2018024 2018025 2018026 2018027 2018028 2018029 2018030 2018031 2018032 2018033 2018034 2018035 2018036 2018037 2018038 2018039 2018040 2018041 2018042 2018043 2018044 2018045 2018046 2018047 2018048 2018049 2018050 2018051 2018052 2018053 2018054 2018055 2018056 2018057 2018058 2018059 2018060 2018061 2018062 2018063 2018064 2018065 2018066 2018067 2018068 2018069 2018070 2018071 2018072 2018073 2018074 2018075 2018076 2018077 2018078 2018079 2018080 2018081 2018082 2018083 2018084 2018085 2018086 2018087 2018088 2018089 2018090 2018091 2018092 2018093 2018094 2018095 2018096 2018097 2018098 2018099 2018100 2018101 2018102 2018103 2018104 2018105 2018106 2018107 2018108 2018109 2018110 2018111 2018112 2018113 2018114 2018115 2018116 2018117 2018118 2018119 2018120 2018121 2018122 2018123 2018124 2018125 2018126 2018127 2018128 2018129 2018130 2018131 2018132 2018133 2018134 2018135 2018136 2018137 2018138 2018139 2018140 2018141 2018142 2018143 2018144 2018145 2018146 2018147 2018148 2018149 2018150 2018151 2018152 2018153 2018154 2018155 2018156 2018157 2018158 2018159 2018160 2018161 2018162 2018163 2018164 2018165 2018166 2018167 2018168 2018169 2018170 2018171 2018172 2018173 2018174 2018175 2018176 2018177 2018178 2018179 2018180 2018181 2018182 2018183 2018184 2018185 2018186 2018187 2018188 2018189 2018190 2018191 2018192 2018193 2018194 2018195 2018196 2018197 2018198 2018199 2018200 2018201 2018202 2018203 2018204 2018205 2018206 2018207 2018208 2018209 2018210 2018211 2018212 2018213 2018214 2018215 2018216 2018217 2018218 2018219 2018220 2018221 2018222 2018223 2018224 2018225 2018226 2018227 2018228 2018229 2018230 2018231 2018232 2018233 2018234 2018235 2018236 2018237 2018238 2018239 2018240 2018241 2018242 2018243 2018244 2018245 2018246 2018247 2018248 2018249 2018250 2018251 2018252 2018253 2018254 2018255 2018256 2018257 2018258 2018259 2018260 2018261 2018262 2018263 2018264 2018265 2018266 2018267 2018268 2018269 2018270 2018271 2018272 2018273 ',\n",
       " 'MATLABdates': '736969 736970 736971 736972 736973 736974 736975 736976 736977 736978 736979 736980 736981 736982 736983 736984 736985 736986 736987 736988 736989 736990 736991 736992 736993 736994 736995 736996 736997 736998 736999 737000 737001 737002 737003 737004 737005 737006 737007 737008 737009 737010 737011 737012 737013 737014 737015 737016 737017 737018 737019 737020 737021 737022 737023 737024 737025 737026 737027 737028 737029 737030 737031 737032 737033 737034 737035 737036 737037 737038 737039 737040 737041 737042 737043 737044 737045 737046 737047 737048 737049 737050 737051 737052 737053 737054 737055 737056 737057 737058 737059 737060 737061 737062 737063 737064 737065 737066 737067 737068 737069 737070 737071 737072 737073 737074 737075 737076 737077 737078 737079 737080 737081 737082 737083 737084 737085 737086 737087 737088 737089 737090 737091 737092 737093 737094 737095 737096 737097 737098 737099 737100 737101 737102 737103 737104 737105 737106 737107 737108 737109 737110 737111 737112 737113 737114 737115 737116 737117 737118 737119 737120 737121 737122 737123 737124 737125 737126 737127 737128 737129 737130 737131 737132 737133 737134 737135 737136 737137 737138 737139 737140 737141 737142 737143 737144 737145 737146 737147 737148 737149 737150 737151 737152 737153 737154 737155 737156 737157 737158 737159 737160 737161 737162 737163 737164 737165 737166 737167 737168 737169 737170 737171 737172 737173 737174 737175 737176 737177 737178 737179 737180 737181 737182 737183 737184 737185 737186 737187 737188 737189 737190 737191 737192 737193 737194 737195 737196 737197 737198 737199 737200 737201 737202 737203 737204 737205 737206 737207 737208 737209 737210 737211 737212 737213 737214 737215 737216 737217 737218 737219 737220 737221 737222 737223 737224 737225 737226 737227 737228 737229 737230 737231 737232 737233 737234 737235 737236 737237 737238 737239 737240 737241 737242 737243 737244 737245 737246 737247 737248 737249 737250 737251 737252 737253 737254 737255 737256 737257 737258 737259 737260 737261 737262 737263 737264 737265 737266 737267 737268 737269 737270 737271 737272 737273 737274 737275 737276 737277 737278 737279 737280 737281 737282 737283 737284 737285 737286 737287 737288 737289 737290 737291 737292 737293 737294 737295 737296 737297 737298 737299 737300 737301 737302 737303 737304 737305 737306 737307 737308 737309 737310 737311 737312 737313 737314 737315 737316 737317 737318 737319 737320 737321 737322 737323 737324 737325 737326 737327 737328 737329 737330 737331 737332 737333 '}"
      ]
     },
     "execution_count": 103,
     "metadata": {},
     "output_type": "execute_result"
    }
   ],
   "source": [
    "metadata = sierra2018.GetMetadata()\n",
    "metadata\n",
    "## this looks like a dictionary. Try to index using dictionary notation"
   ]
  },
  {
   "cell_type": "code",
   "execution_count": 104,
   "id": "44b60101-6f35-4494-abb9-7735f773ee64",
   "metadata": {},
   "outputs": [
    {
     "data": {
      "text/plain": [
       "'degrees'"
      ]
     },
     "execution_count": 104,
     "metadata": {},
     "output_type": "execute_result"
    }
   ],
   "source": [
    "metadata['Grid_angleunits']"
   ]
  },
  {
   "cell_type": "code",
   "execution_count": 106,
   "id": "a469e194-0a36-4a73-861d-5f895dcdf54a",
   "metadata": {},
   "outputs": [
    {
     "data": {
      "text/plain": [
       "'0 500 -285750 -500 0 500250 '"
      ]
     },
     "execution_count": 106,
     "metadata": {},
     "output_type": "execute_result"
    }
   ],
   "source": [
    "ref_matrix = metadata['Grid_MODIS_GRID_500m_ReferencingMatrix']\n",
    "ref_matrix\n",
    "# use string functions to separate the individual components of the ref matrix"
   ]
  },
  {
   "cell_type": "code",
   "execution_count": 107,
   "id": "a2e02655-2932-4fd6-a968-78bc80151eed",
   "metadata": {},
   "outputs": [
    {
     "data": {
      "text/plain": [
       "[('HDF5:\"data/snow_fraction_data/Sierra2018.h5\"://Grid/MODIS_GRID_500m/dust',\n",
       "  '[365x1334x1841] //Grid/MODIS_GRID_500m/dust (16-bit unsigned integer)'),\n",
       " ('HDF5:\"data/snow_fraction_data/Sierra2018.h5\"://Grid/MODIS_GRID_500m/grain_size',\n",
       "  '[365x1334x1841] //Grid/MODIS_GRID_500m/grain_size (16-bit unsigned integer)'),\n",
       " ('HDF5:\"data/snow_fraction_data/Sierra2018.h5\"://Grid/MODIS_GRID_500m/raw_snow_fraction',\n",
       "  '[365x1334x1841] //Grid/MODIS_GRID_500m/raw_snow_fraction (8-bit unsigned character)'),\n",
       " ('HDF5:\"data/snow_fraction_data/Sierra2018.h5\"://Grid/MODIS_GRID_500m/snow_fraction',\n",
       "  '[365x1334x1841] //Grid/MODIS_GRID_500m/snow_fraction (8-bit unsigned character)')]"
      ]
     },
     "execution_count": 107,
     "metadata": {},
     "output_type": "execute_result"
    }
   ],
   "source": [
    "# https://gis.stackexchange.com/questions/345691/using-python-gdal-to-reproject-an-hdf\n",
    "sierra2018.GetSubDatasets()"
   ]
  },
  {
   "cell_type": "code",
   "execution_count": 73,
   "id": "5398a4af-64d7-47a6-90e5-0aa20982c379",
   "metadata": {},
   "outputs": [],
   "source": [
    "sierra2018_band = gdal.Open(sierra2018.GetSubDatasets()[0][0], gdal.GA_ReadOnly)\n",
    "sierra2018_arr = sierra2018_band.ReadAsArray()  #now numpy array"
   ]
  },
  {
   "cell_type": "code",
   "execution_count": 74,
   "id": "ea01fc2c-3558-49d7-be93-0f615d43e1b1",
   "metadata": {},
   "outputs": [
    {
     "data": {
      "text/plain": [
       "(365, 1334, 1841)"
      ]
     },
     "execution_count": 74,
     "metadata": {},
     "output_type": "execute_result"
    }
   ],
   "source": [
    "sierra2018_arr.shape"
   ]
  },
  {
   "cell_type": "markdown",
   "id": "b89c0b5d-2788-447a-948c-e120e0dbf456",
   "metadata": {},
   "source": [
    "## Method 3 - Rasterio <a class=\"anchor\" id=\"rasterio\"></a>"
   ]
  },
  {
   "cell_type": "code",
   "execution_count": 10,
   "id": "5739abfb-1d10-44f7-b034-76fb6acc8cab",
   "metadata": {},
   "outputs": [],
   "source": [
    "sierra2019 = rasterio.open('../../data/snow_fraction_data/Sierra2019.h5')"
   ]
  },
  {
   "cell_type": "code",
   "execution_count": 76,
   "id": "eaee1bc3-5618-4b13-8ba7-426ffd8a476f",
   "metadata": {},
   "outputs": [
    {
     "data": {
      "text/plain": [
       "<open DatasetReader name='data/snow_fraction_data/Sierra2019.h5' mode='r'>"
      ]
     },
     "execution_count": 76,
     "metadata": {},
     "output_type": "execute_result"
    }
   ],
   "source": [
    "sierra2019"
   ]
  },
  {
   "cell_type": "code",
   "execution_count": 77,
   "id": "e9682c3e-b154-4ae4-b225-f7301e1bd59d",
   "metadata": {},
   "outputs": [
    {
     "data": {
      "text/plain": [
       "['HDF5:data/snow_fraction_data/Sierra2019.h5://Grid/MODIS_GRID_500m/dust',\n",
       " 'HDF5:data/snow_fraction_data/Sierra2019.h5://Grid/MODIS_GRID_500m/grain_size',\n",
       " 'HDF5:data/snow_fraction_data/Sierra2019.h5://Grid/MODIS_GRID_500m/raw_snow_fraction',\n",
       " 'HDF5:data/snow_fraction_data/Sierra2019.h5://Grid/MODIS_GRID_500m/snow_fraction']"
      ]
     },
     "execution_count": 77,
     "metadata": {},
     "output_type": "execute_result"
    }
   ],
   "source": [
    "sierra2019.subdatasets"
   ]
  },
  {
   "cell_type": "code",
   "execution_count": 109,
   "id": "c6108193-7ab9-412b-a10a-2193d5e556c8",
   "metadata": {},
   "outputs": [
    {
     "data": {
      "text/plain": [
       "{'Grid_angleunits': 'degrees',\n",
       " 'Grid_aspect': 'normal',\n",
       " 'Grid_falseeasting': '0 ',\n",
       " 'Grid_falsenorthing': '-4000000 ',\n",
       " 'Grid_geoid': '6378137 0.0818191908426215 ',\n",
       " 'Grid_maplatlimit': '-90 90 ',\n",
       " 'Grid_maplonlimit': '-255 15 ',\n",
       " 'Grid_mapparallels': '34 40.5 ',\n",
       " 'Grid_mapprojection': 'eqaconicstd',\n",
       " 'Grid_MODIS_GRID_500m_dust_divisor': '10 ',\n",
       " 'Grid_MODIS_GRID_500m_grain_size_divisor': '1 ',\n",
       " 'Grid_MODIS_GRID_500m_raw_snow_fraction_divisor': '100 ',\n",
       " 'Grid_MODIS_GRID_500m_ReferencingMatrix': '0 500 -285750 -500 0 500250 ',\n",
       " 'Grid_MODIS_GRID_500m_snow_fraction_divisor': '100 ',\n",
       " 'Grid_nparallels': '2 ',\n",
       " 'Grid_origin': '0 -120 0 ',\n",
       " 'Grid_scalefactor': '1 ',\n",
       " 'Grid_trimlat': '-90 90 ',\n",
       " 'Grid_trimlon': '-135 135 ',\n",
       " 'ISOdates': '2018274 2018275 2018276 2018277 2018278 2018279 2018280 2018281 2018282 2018283 2018284 2018285 2018286 2018287 2018288 2018289 2018290 2018291 2018292 2018293 2018294 2018295 2018296 2018297 2018298 2018299 2018300 2018301 2018302 2018303 2018304 2018305 2018306 2018307 2018308 2018309 2018310 2018311 2018312 2018313 2018314 2018315 2018316 2018317 2018318 2018319 2018320 2018321 2018322 2018323 2018324 2018325 2018326 2018327 2018328 2018329 2018330 2018331 2018332 2018333 2018334 2018335 2018336 2018337 2018338 2018339 2018340 2018341 2018342 2018343 2018344 2018345 2018346 2018347 2018348 2018349 2018350 2018351 2018352 2018353 2018354 2018355 2018356 2018357 2018358 2018359 2018360 2018361 2018362 2018363 2018364 2018365 2019001 2019002 2019003 2019004 2019005 2019006 2019007 2019008 2019009 2019010 2019011 2019012 2019013 2019014 2019015 2019016 2019017 2019018 2019019 2019020 2019021 2019022 2019023 2019024 2019025 2019026 2019027 2019028 2019029 2019030 2019031 2019032 2019033 2019034 2019035 2019036 2019037 2019038 2019039 2019040 2019041 2019042 2019043 2019044 2019045 2019046 2019047 2019048 2019049 2019050 2019051 2019052 2019053 2019054 2019055 2019056 2019057 2019058 2019059 2019060 2019061 2019062 2019063 2019064 2019065 2019066 2019067 2019068 2019069 2019070 2019071 2019072 2019073 2019074 2019075 2019076 2019077 2019078 2019079 2019080 2019081 2019082 2019083 2019084 2019085 2019086 2019087 2019088 2019089 2019090 2019091 2019092 2019093 2019094 2019095 2019096 2019097 2019098 2019099 2019100 2019101 2019102 2019103 2019104 2019105 2019106 2019107 2019108 2019109 2019110 2019111 2019112 2019113 2019114 2019115 2019116 2019117 2019118 2019119 2019120 2019121 2019122 2019123 2019124 2019125 2019126 2019127 2019128 2019129 2019130 2019131 2019132 2019133 2019134 2019135 2019136 2019137 2019138 2019139 2019140 2019141 2019142 2019143 2019144 2019145 2019146 2019147 2019148 2019149 2019150 2019151 2019152 2019153 2019154 2019155 2019156 2019157 2019158 2019159 2019160 2019161 2019162 2019163 2019164 2019165 2019166 2019167 2019168 2019169 2019170 2019171 2019172 2019173 2019174 2019175 2019176 2019177 2019178 2019179 2019180 2019181 2019182 2019183 2019184 2019185 2019186 2019187 2019188 2019189 2019190 2019191 2019192 2019193 2019194 2019195 2019196 2019197 2019198 2019199 2019200 2019201 2019202 2019203 2019204 2019205 2019206 2019207 2019208 2019209 2019210 2019211 2019212 2019213 2019214 2019215 2019216 2019217 2019218 2019219 2019220 2019221 2019222 2019223 2019224 2019225 2019226 2019227 2019228 2019229 2019230 2019231 2019232 2019233 2019234 2019235 2019236 2019237 2019238 2019239 2019240 2019241 2019242 2019243 2019244 2019245 2019246 2019247 2019248 2019249 2019250 2019251 2019252 2019253 2019254 2019255 2019256 2019257 2019258 2019259 2019260 2019261 2019262 2019263 2019264 2019265 2019266 2019267 2019268 2019269 2019270 2019271 2019272 2019273 ',\n",
       " 'MATLABdates': '737334 737335 737336 737337 737338 737339 737340 737341 737342 737343 737344 737345 737346 737347 737348 737349 737350 737351 737352 737353 737354 737355 737356 737357 737358 737359 737360 737361 737362 737363 737364 737365 737366 737367 737368 737369 737370 737371 737372 737373 737374 737375 737376 737377 737378 737379 737380 737381 737382 737383 737384 737385 737386 737387 737388 737389 737390 737391 737392 737393 737394 737395 737396 737397 737398 737399 737400 737401 737402 737403 737404 737405 737406 737407 737408 737409 737410 737411 737412 737413 737414 737415 737416 737417 737418 737419 737420 737421 737422 737423 737424 737425 737426 737427 737428 737429 737430 737431 737432 737433 737434 737435 737436 737437 737438 737439 737440 737441 737442 737443 737444 737445 737446 737447 737448 737449 737450 737451 737452 737453 737454 737455 737456 737457 737458 737459 737460 737461 737462 737463 737464 737465 737466 737467 737468 737469 737470 737471 737472 737473 737474 737475 737476 737477 737478 737479 737480 737481 737482 737483 737484 737485 737486 737487 737488 737489 737490 737491 737492 737493 737494 737495 737496 737497 737498 737499 737500 737501 737502 737503 737504 737505 737506 737507 737508 737509 737510 737511 737512 737513 737514 737515 737516 737517 737518 737519 737520 737521 737522 737523 737524 737525 737526 737527 737528 737529 737530 737531 737532 737533 737534 737535 737536 737537 737538 737539 737540 737541 737542 737543 737544 737545 737546 737547 737548 737549 737550 737551 737552 737553 737554 737555 737556 737557 737558 737559 737560 737561 737562 737563 737564 737565 737566 737567 737568 737569 737570 737571 737572 737573 737574 737575 737576 737577 737578 737579 737580 737581 737582 737583 737584 737585 737586 737587 737588 737589 737590 737591 737592 737593 737594 737595 737596 737597 737598 737599 737600 737601 737602 737603 737604 737605 737606 737607 737608 737609 737610 737611 737612 737613 737614 737615 737616 737617 737618 737619 737620 737621 737622 737623 737624 737625 737626 737627 737628 737629 737630 737631 737632 737633 737634 737635 737636 737637 737638 737639 737640 737641 737642 737643 737644 737645 737646 737647 737648 737649 737650 737651 737652 737653 737654 737655 737656 737657 737658 737659 737660 737661 737662 737663 737664 737665 737666 737667 737668 737669 737670 737671 737672 737673 737674 737675 737676 737677 737678 737679 737680 737681 737682 737683 737684 737685 737686 737687 737688 737689 737690 737691 737692 737693 737694 737695 737696 737697 737698 '}"
      ]
     },
     "execution_count": 109,
     "metadata": {},
     "output_type": "execute_result"
    }
   ],
   "source": [
    "metadata_rasterio = sierra2019.tags()\n",
    "metadata_rasterio"
   ]
  },
  {
   "cell_type": "code",
   "execution_count": 115,
   "id": "cf0c7ec4-df64-4c62-9d18-1ec0deb244ef",
   "metadata": {},
   "outputs": [
    {
     "data": {
      "text/plain": [
       "'degrees'"
      ]
     },
     "execution_count": 115,
     "metadata": {},
     "output_type": "execute_result"
    }
   ],
   "source": [
    "grid_angleunits = metadata_rasterio['Grid_angleunits']\n",
    "grid_angleunits"
   ]
  },
  {
   "cell_type": "code",
   "execution_count": 124,
   "id": "077cc90b-e16b-49a3-9aef-d983ea8771dd",
   "metadata": {},
   "outputs": [
    {
     "data": {
      "text/plain": [
       "'eqaconicstd'"
      ]
     },
     "execution_count": 124,
     "metadata": {},
     "output_type": "execute_result"
    }
   ],
   "source": [
    "map_projection = metadata_rasterio['Grid_mapprojection']\n",
    "map_projection"
   ]
  },
  {
   "cell_type": "code",
   "execution_count": 113,
   "id": "d5ae0cd2-e0a4-4363-b00c-0359830bbdf5",
   "metadata": {},
   "outputs": [
    {
     "data": {
      "text/plain": [
       "rasterio.io.DatasetReader"
      ]
     },
     "execution_count": 113,
     "metadata": {},
     "output_type": "execute_result"
    }
   ],
   "source": [
    "type(sierra2019)"
   ]
  },
  {
   "cell_type": "code",
   "execution_count": 70,
   "id": "5dd7895f-ee97-4676-8a0d-bf562ad01b12",
   "metadata": {},
   "outputs": [
    {
     "data": {
      "text/plain": [
       "(512, 512)"
      ]
     },
     "execution_count": 70,
     "metadata": {},
     "output_type": "execute_result"
    }
   ],
   "source": [
    "sierra2019.shape\n",
    "# that's weird"
   ]
  },
  {
   "cell_type": "markdown",
   "id": "4f5a1879-af15-4df5-823d-32e80ee1c413",
   "metadata": {},
   "source": [
    "## Method 4 - rioxarry <a class=\"anchor\" id=\"rioxarray\"></a>"
   ]
  },
  {
   "cell_type": "code",
   "execution_count": 118,
   "id": "242f5862-8254-40d3-8231-5907af10ab50",
   "metadata": {},
   "outputs": [
    {
     "name": "stderr",
     "output_type": "stream",
     "text": [
      "/Users/marierivers/opt/anaconda3/envs/eds223/lib/python3.8/site-packages/rasterio/__init__.py:220: NotGeoreferencedWarning: Dataset has no geotransform, gcps, or rpcs. The identity matrix be returned.\n",
      "  s = DatasetReader(path, driver=driver, sharing=sharing, **kwargs)\n",
      "/Users/marierivers/opt/anaconda3/envs/eds223/lib/python3.8/site-packages/rasterio/__init__.py:220: NotGeoreferencedWarning: Dataset has no geotransform, gcps, or rpcs. The identity matrix be returned.\n",
      "  s = DatasetReader(path, driver=driver, sharing=sharing, **kwargs)\n",
      "/Users/marierivers/opt/anaconda3/envs/eds223/lib/python3.8/site-packages/rasterio/__init__.py:220: NotGeoreferencedWarning: Dataset has no geotransform, gcps, or rpcs. The identity matrix be returned.\n",
      "  s = DatasetReader(path, driver=driver, sharing=sharing, **kwargs)\n",
      "/Users/marierivers/opt/anaconda3/envs/eds223/lib/python3.8/site-packages/rasterio/__init__.py:220: NotGeoreferencedWarning: Dataset has no geotransform, gcps, or rpcs. The identity matrix be returned.\n",
      "  s = DatasetReader(path, driver=driver, sharing=sharing, **kwargs)\n"
     ]
    },
    {
     "data": {
      "text/html": [
       "<div><svg style=\"position: absolute; width: 0; height: 0; overflow: hidden\">\n",
       "<defs>\n",
       "<symbol id=\"icon-database\" viewBox=\"0 0 32 32\">\n",
       "<path d=\"M16 0c-8.837 0-16 2.239-16 5v4c0 2.761 7.163 5 16 5s16-2.239 16-5v-4c0-2.761-7.163-5-16-5z\"></path>\n",
       "<path d=\"M16 17c-8.837 0-16-2.239-16-5v6c0 2.761 7.163 5 16 5s16-2.239 16-5v-6c0 2.761-7.163 5-16 5z\"></path>\n",
       "<path d=\"M16 26c-8.837 0-16-2.239-16-5v6c0 2.761 7.163 5 16 5s16-2.239 16-5v-6c0 2.761-7.163 5-16 5z\"></path>\n",
       "</symbol>\n",
       "<symbol id=\"icon-file-text2\" viewBox=\"0 0 32 32\">\n",
       "<path d=\"M28.681 7.159c-0.694-0.947-1.662-2.053-2.724-3.116s-2.169-2.030-3.116-2.724c-1.612-1.182-2.393-1.319-2.841-1.319h-15.5c-1.378 0-2.5 1.121-2.5 2.5v27c0 1.378 1.122 2.5 2.5 2.5h23c1.378 0 2.5-1.122 2.5-2.5v-19.5c0-0.448-0.137-1.23-1.319-2.841zM24.543 5.457c0.959 0.959 1.712 1.825 2.268 2.543h-4.811v-4.811c0.718 0.556 1.584 1.309 2.543 2.268zM28 29.5c0 0.271-0.229 0.5-0.5 0.5h-23c-0.271 0-0.5-0.229-0.5-0.5v-27c0-0.271 0.229-0.5 0.5-0.5 0 0 15.499-0 15.5 0v7c0 0.552 0.448 1 1 1h7v19.5z\"></path>\n",
       "<path d=\"M23 26h-14c-0.552 0-1-0.448-1-1s0.448-1 1-1h14c0.552 0 1 0.448 1 1s-0.448 1-1 1z\"></path>\n",
       "<path d=\"M23 22h-14c-0.552 0-1-0.448-1-1s0.448-1 1-1h14c0.552 0 1 0.448 1 1s-0.448 1-1 1z\"></path>\n",
       "<path d=\"M23 18h-14c-0.552 0-1-0.448-1-1s0.448-1 1-1h14c0.552 0 1 0.448 1 1s-0.448 1-1 1z\"></path>\n",
       "</symbol>\n",
       "</defs>\n",
       "</svg>\n",
       "<style>/* CSS stylesheet for displaying xarray objects in jupyterlab.\n",
       " *\n",
       " */\n",
       "\n",
       ":root {\n",
       "  --xr-font-color0: var(--jp-content-font-color0, rgba(0, 0, 0, 1));\n",
       "  --xr-font-color2: var(--jp-content-font-color2, rgba(0, 0, 0, 0.54));\n",
       "  --xr-font-color3: var(--jp-content-font-color3, rgba(0, 0, 0, 0.38));\n",
       "  --xr-border-color: var(--jp-border-color2, #e0e0e0);\n",
       "  --xr-disabled-color: var(--jp-layout-color3, #bdbdbd);\n",
       "  --xr-background-color: var(--jp-layout-color0, white);\n",
       "  --xr-background-color-row-even: var(--jp-layout-color1, white);\n",
       "  --xr-background-color-row-odd: var(--jp-layout-color2, #eeeeee);\n",
       "}\n",
       "\n",
       "html[theme=dark],\n",
       "body.vscode-dark {\n",
       "  --xr-font-color0: rgba(255, 255, 255, 1);\n",
       "  --xr-font-color2: rgba(255, 255, 255, 0.54);\n",
       "  --xr-font-color3: rgba(255, 255, 255, 0.38);\n",
       "  --xr-border-color: #1F1F1F;\n",
       "  --xr-disabled-color: #515151;\n",
       "  --xr-background-color: #111111;\n",
       "  --xr-background-color-row-even: #111111;\n",
       "  --xr-background-color-row-odd: #313131;\n",
       "}\n",
       "\n",
       ".xr-wrap {\n",
       "  display: block;\n",
       "  min-width: 300px;\n",
       "  max-width: 700px;\n",
       "}\n",
       "\n",
       ".xr-text-repr-fallback {\n",
       "  /* fallback to plain text repr when CSS is not injected (untrusted notebook) */\n",
       "  display: none;\n",
       "}\n",
       "\n",
       ".xr-header {\n",
       "  padding-top: 6px;\n",
       "  padding-bottom: 6px;\n",
       "  margin-bottom: 4px;\n",
       "  border-bottom: solid 1px var(--xr-border-color);\n",
       "}\n",
       "\n",
       ".xr-header > div,\n",
       ".xr-header > ul {\n",
       "  display: inline;\n",
       "  margin-top: 0;\n",
       "  margin-bottom: 0;\n",
       "}\n",
       "\n",
       ".xr-obj-type,\n",
       ".xr-array-name {\n",
       "  margin-left: 2px;\n",
       "  margin-right: 10px;\n",
       "}\n",
       "\n",
       ".xr-obj-type {\n",
       "  color: var(--xr-font-color2);\n",
       "}\n",
       "\n",
       ".xr-sections {\n",
       "  padding-left: 0 !important;\n",
       "  display: grid;\n",
       "  grid-template-columns: 150px auto auto 1fr 20px 20px;\n",
       "}\n",
       "\n",
       ".xr-section-item {\n",
       "  display: contents;\n",
       "}\n",
       "\n",
       ".xr-section-item input {\n",
       "  display: none;\n",
       "}\n",
       "\n",
       ".xr-section-item input + label {\n",
       "  color: var(--xr-disabled-color);\n",
       "}\n",
       "\n",
       ".xr-section-item input:enabled + label {\n",
       "  cursor: pointer;\n",
       "  color: var(--xr-font-color2);\n",
       "}\n",
       "\n",
       ".xr-section-item input:enabled + label:hover {\n",
       "  color: var(--xr-font-color0);\n",
       "}\n",
       "\n",
       ".xr-section-summary {\n",
       "  grid-column: 1;\n",
       "  color: var(--xr-font-color2);\n",
       "  font-weight: 500;\n",
       "}\n",
       "\n",
       ".xr-section-summary > span {\n",
       "  display: inline-block;\n",
       "  padding-left: 0.5em;\n",
       "}\n",
       "\n",
       ".xr-section-summary-in:disabled + label {\n",
       "  color: var(--xr-font-color2);\n",
       "}\n",
       "\n",
       ".xr-section-summary-in + label:before {\n",
       "  display: inline-block;\n",
       "  content: '►';\n",
       "  font-size: 11px;\n",
       "  width: 15px;\n",
       "  text-align: center;\n",
       "}\n",
       "\n",
       ".xr-section-summary-in:disabled + label:before {\n",
       "  color: var(--xr-disabled-color);\n",
       "}\n",
       "\n",
       ".xr-section-summary-in:checked + label:before {\n",
       "  content: '▼';\n",
       "}\n",
       "\n",
       ".xr-section-summary-in:checked + label > span {\n",
       "  display: none;\n",
       "}\n",
       "\n",
       ".xr-section-summary,\n",
       ".xr-section-inline-details {\n",
       "  padding-top: 4px;\n",
       "  padding-bottom: 4px;\n",
       "}\n",
       "\n",
       ".xr-section-inline-details {\n",
       "  grid-column: 2 / -1;\n",
       "}\n",
       "\n",
       ".xr-section-details {\n",
       "  display: none;\n",
       "  grid-column: 1 / -1;\n",
       "  margin-bottom: 5px;\n",
       "}\n",
       "\n",
       ".xr-section-summary-in:checked ~ .xr-section-details {\n",
       "  display: contents;\n",
       "}\n",
       "\n",
       ".xr-array-wrap {\n",
       "  grid-column: 1 / -1;\n",
       "  display: grid;\n",
       "  grid-template-columns: 20px auto;\n",
       "}\n",
       "\n",
       ".xr-array-wrap > label {\n",
       "  grid-column: 1;\n",
       "  vertical-align: top;\n",
       "}\n",
       "\n",
       ".xr-preview {\n",
       "  color: var(--xr-font-color3);\n",
       "}\n",
       "\n",
       ".xr-array-preview,\n",
       ".xr-array-data {\n",
       "  padding: 0 5px !important;\n",
       "  grid-column: 2;\n",
       "}\n",
       "\n",
       ".xr-array-data,\n",
       ".xr-array-in:checked ~ .xr-array-preview {\n",
       "  display: none;\n",
       "}\n",
       "\n",
       ".xr-array-in:checked ~ .xr-array-data,\n",
       ".xr-array-preview {\n",
       "  display: inline-block;\n",
       "}\n",
       "\n",
       ".xr-dim-list {\n",
       "  display: inline-block !important;\n",
       "  list-style: none;\n",
       "  padding: 0 !important;\n",
       "  margin: 0;\n",
       "}\n",
       "\n",
       ".xr-dim-list li {\n",
       "  display: inline-block;\n",
       "  padding: 0;\n",
       "  margin: 0;\n",
       "}\n",
       "\n",
       ".xr-dim-list:before {\n",
       "  content: '(';\n",
       "}\n",
       "\n",
       ".xr-dim-list:after {\n",
       "  content: ')';\n",
       "}\n",
       "\n",
       ".xr-dim-list li:not(:last-child):after {\n",
       "  content: ',';\n",
       "  padding-right: 5px;\n",
       "}\n",
       "\n",
       ".xr-has-index {\n",
       "  font-weight: bold;\n",
       "}\n",
       "\n",
       ".xr-var-list,\n",
       ".xr-var-item {\n",
       "  display: contents;\n",
       "}\n",
       "\n",
       ".xr-var-item > div,\n",
       ".xr-var-item label,\n",
       ".xr-var-item > .xr-var-name span {\n",
       "  background-color: var(--xr-background-color-row-even);\n",
       "  margin-bottom: 0;\n",
       "}\n",
       "\n",
       ".xr-var-item > .xr-var-name:hover span {\n",
       "  padding-right: 5px;\n",
       "}\n",
       "\n",
       ".xr-var-list > li:nth-child(odd) > div,\n",
       ".xr-var-list > li:nth-child(odd) > label,\n",
       ".xr-var-list > li:nth-child(odd) > .xr-var-name span {\n",
       "  background-color: var(--xr-background-color-row-odd);\n",
       "}\n",
       "\n",
       ".xr-var-name {\n",
       "  grid-column: 1;\n",
       "}\n",
       "\n",
       ".xr-var-dims {\n",
       "  grid-column: 2;\n",
       "}\n",
       "\n",
       ".xr-var-dtype {\n",
       "  grid-column: 3;\n",
       "  text-align: right;\n",
       "  color: var(--xr-font-color2);\n",
       "}\n",
       "\n",
       ".xr-var-preview {\n",
       "  grid-column: 4;\n",
       "}\n",
       "\n",
       ".xr-var-name,\n",
       ".xr-var-dims,\n",
       ".xr-var-dtype,\n",
       ".xr-preview,\n",
       ".xr-attrs dt {\n",
       "  white-space: nowrap;\n",
       "  overflow: hidden;\n",
       "  text-overflow: ellipsis;\n",
       "  padding-right: 10px;\n",
       "}\n",
       "\n",
       ".xr-var-name:hover,\n",
       ".xr-var-dims:hover,\n",
       ".xr-var-dtype:hover,\n",
       ".xr-attrs dt:hover {\n",
       "  overflow: visible;\n",
       "  width: auto;\n",
       "  z-index: 1;\n",
       "}\n",
       "\n",
       ".xr-var-attrs,\n",
       ".xr-var-data {\n",
       "  display: none;\n",
       "  background-color: var(--xr-background-color) !important;\n",
       "  padding-bottom: 5px !important;\n",
       "}\n",
       "\n",
       ".xr-var-attrs-in:checked ~ .xr-var-attrs,\n",
       ".xr-var-data-in:checked ~ .xr-var-data {\n",
       "  display: block;\n",
       "}\n",
       "\n",
       ".xr-var-data > table {\n",
       "  float: right;\n",
       "}\n",
       "\n",
       ".xr-var-name span,\n",
       ".xr-var-data,\n",
       ".xr-attrs {\n",
       "  padding-left: 25px !important;\n",
       "}\n",
       "\n",
       ".xr-attrs,\n",
       ".xr-var-attrs,\n",
       ".xr-var-data {\n",
       "  grid-column: 1 / -1;\n",
       "}\n",
       "\n",
       "dl.xr-attrs {\n",
       "  padding: 0;\n",
       "  margin: 0;\n",
       "  display: grid;\n",
       "  grid-template-columns: 125px auto;\n",
       "}\n",
       "\n",
       ".xr-attrs dt,\n",
       ".xr-attrs dd {\n",
       "  padding: 0;\n",
       "  margin: 0;\n",
       "  float: left;\n",
       "  padding-right: 10px;\n",
       "  width: auto;\n",
       "}\n",
       "\n",
       ".xr-attrs dt {\n",
       "  font-weight: normal;\n",
       "  grid-column: 1;\n",
       "}\n",
       "\n",
       ".xr-attrs dt:hover span {\n",
       "  display: inline-block;\n",
       "  background: var(--xr-background-color);\n",
       "  padding-right: 10px;\n",
       "}\n",
       "\n",
       ".xr-attrs dd {\n",
       "  grid-column: 2;\n",
       "  white-space: pre-wrap;\n",
       "  word-break: break-all;\n",
       "}\n",
       "\n",
       ".xr-icon-database,\n",
       ".xr-icon-file-text2 {\n",
       "  display: inline-block;\n",
       "  vertical-align: middle;\n",
       "  width: 1em;\n",
       "  height: 1.5em !important;\n",
       "  stroke-width: 0;\n",
       "  stroke: currentColor;\n",
       "  fill: currentColor;\n",
       "}\n",
       "</style><pre class='xr-text-repr-fallback'>&lt;xarray.Dataset&gt;\n",
       "Dimensions:                                 (y: 1334, x: 1841, band: 366)\n",
       "Coordinates:\n",
       "  * y                                       (y) float64 0.5 1.5 ... 1.334e+03\n",
       "  * x                                       (x) float64 0.5 1.5 ... 1.84e+03\n",
       "  * band                                    (band) int64 1 2 3 4 ... 364 365 366\n",
       "    spatial_ref                             int64 0\n",
       "Data variables:\n",
       "    Grid_MODIS_GRID_500m_dust               (band, y, x) uint16 ...\n",
       "    Grid_MODIS_GRID_500m_grain_size         (band, y, x) uint16 ...\n",
       "    Grid_MODIS_GRID_500m_raw_snow_fraction  (band, y, x) uint8 ...\n",
       "    Grid_MODIS_GRID_500m_snow_fraction      (band, y, x) uint8 ...\n",
       "Attributes: (12/21)\n",
       "    Grid_angleunits:                                 degrees\n",
       "    Grid_aspect:                                     normal\n",
       "    Grid_falseeasting:                               0\n",
       "    Grid_falsenorthing:                              -4000000\n",
       "    Grid_geoid:                                      6378137 0.0818191908426215 \n",
       "    Grid_maplatlimit:                                -90 90 \n",
       "    ...                                              ...\n",
       "    Grid_origin:                                     0 -120 0 \n",
       "    Grid_scalefactor:                                1\n",
       "    Grid_trimlat:                                    -90 90 \n",
       "    Grid_trimlon:                                    -135 135 \n",
       "    ISOdates:                                        2015274 2015275 2015276 ...\n",
       "    MATLABdates:                                     736238 736239 736240 736...</pre><div class='xr-wrap' hidden><div class='xr-header'><div class='xr-obj-type'>xarray.Dataset</div></div><ul class='xr-sections'><li class='xr-section-item'><input id='section-c98a31fc-e048-4fa5-bb8f-722b275d5de7' class='xr-section-summary-in' type='checkbox' disabled ><label for='section-c98a31fc-e048-4fa5-bb8f-722b275d5de7' class='xr-section-summary'  title='Expand/collapse section'>Dimensions:</label><div class='xr-section-inline-details'><ul class='xr-dim-list'><li><span class='xr-has-index'>y</span>: 1334</li><li><span class='xr-has-index'>x</span>: 1841</li><li><span class='xr-has-index'>band</span>: 366</li></ul></div><div class='xr-section-details'></div></li><li class='xr-section-item'><input id='section-af9f8613-26ac-4a5d-aa8a-9e68ad45e345' class='xr-section-summary-in' type='checkbox'  checked><label for='section-af9f8613-26ac-4a5d-aa8a-9e68ad45e345' class='xr-section-summary' >Coordinates: <span>(4)</span></label><div class='xr-section-inline-details'></div><div class='xr-section-details'><ul class='xr-var-list'><li class='xr-var-item'><div class='xr-var-name'><span class='xr-has-index'>y</span></div><div class='xr-var-dims'>(y)</div><div class='xr-var-dtype'>float64</div><div class='xr-var-preview xr-preview'>0.5 1.5 2.5 ... 1.332e+03 1.334e+03</div><input id='attrs-6544a854-3c09-4ab6-a1f7-cf407bf7bd0d' class='xr-var-attrs-in' type='checkbox' disabled><label for='attrs-6544a854-3c09-4ab6-a1f7-cf407bf7bd0d' title='Show/Hide attributes'><svg class='icon xr-icon-file-text2'><use xlink:href='#icon-file-text2'></use></svg></label><input id='data-bf4c7dd1-db03-492e-9c72-4c1d70a227fa' class='xr-var-data-in' type='checkbox'><label for='data-bf4c7dd1-db03-492e-9c72-4c1d70a227fa' title='Show/Hide data repr'><svg class='icon xr-icon-database'><use xlink:href='#icon-database'></use></svg></label><div class='xr-var-attrs'><dl class='xr-attrs'></dl></div><div class='xr-var-data'><pre>array([5.0000e-01, 1.5000e+00, 2.5000e+00, ..., 1.3315e+03, 1.3325e+03,\n",
       "       1.3335e+03])</pre></div></li><li class='xr-var-item'><div class='xr-var-name'><span class='xr-has-index'>x</span></div><div class='xr-var-dims'>(x)</div><div class='xr-var-dtype'>float64</div><div class='xr-var-preview xr-preview'>0.5 1.5 2.5 ... 1.84e+03 1.84e+03</div><input id='attrs-6bdb3dd6-e890-457a-a4f3-19b7b0d8a702' class='xr-var-attrs-in' type='checkbox' disabled><label for='attrs-6bdb3dd6-e890-457a-a4f3-19b7b0d8a702' title='Show/Hide attributes'><svg class='icon xr-icon-file-text2'><use xlink:href='#icon-file-text2'></use></svg></label><input id='data-21cfe4ff-f1c7-4f83-b11b-a78a355eda85' class='xr-var-data-in' type='checkbox'><label for='data-21cfe4ff-f1c7-4f83-b11b-a78a355eda85' title='Show/Hide data repr'><svg class='icon xr-icon-database'><use xlink:href='#icon-database'></use></svg></label><div class='xr-var-attrs'><dl class='xr-attrs'></dl></div><div class='xr-var-data'><pre>array([5.0000e-01, 1.5000e+00, 2.5000e+00, ..., 1.8385e+03, 1.8395e+03,\n",
       "       1.8405e+03])</pre></div></li><li class='xr-var-item'><div class='xr-var-name'><span class='xr-has-index'>band</span></div><div class='xr-var-dims'>(band)</div><div class='xr-var-dtype'>int64</div><div class='xr-var-preview xr-preview'>1 2 3 4 5 6 ... 362 363 364 365 366</div><input id='attrs-5d584076-0627-42f1-83b1-dae135f1241b' class='xr-var-attrs-in' type='checkbox' disabled><label for='attrs-5d584076-0627-42f1-83b1-dae135f1241b' title='Show/Hide attributes'><svg class='icon xr-icon-file-text2'><use xlink:href='#icon-file-text2'></use></svg></label><input id='data-bebaa13b-5207-4d45-8775-652f8e58a2c7' class='xr-var-data-in' type='checkbox'><label for='data-bebaa13b-5207-4d45-8775-652f8e58a2c7' title='Show/Hide data repr'><svg class='icon xr-icon-database'><use xlink:href='#icon-database'></use></svg></label><div class='xr-var-attrs'><dl class='xr-attrs'></dl></div><div class='xr-var-data'><pre>array([  1,   2,   3, ..., 364, 365, 366])</pre></div></li><li class='xr-var-item'><div class='xr-var-name'><span>spatial_ref</span></div><div class='xr-var-dims'>()</div><div class='xr-var-dtype'>int64</div><div class='xr-var-preview xr-preview'>0</div><input id='attrs-b1d2deb0-411a-4d55-9b4b-a1b7dec2f93f' class='xr-var-attrs-in' type='checkbox' ><label for='attrs-b1d2deb0-411a-4d55-9b4b-a1b7dec2f93f' title='Show/Hide attributes'><svg class='icon xr-icon-file-text2'><use xlink:href='#icon-file-text2'></use></svg></label><input id='data-e330a32b-dd98-433d-9520-08449dec9bc8' class='xr-var-data-in' type='checkbox'><label for='data-e330a32b-dd98-433d-9520-08449dec9bc8' title='Show/Hide data repr'><svg class='icon xr-icon-database'><use xlink:href='#icon-database'></use></svg></label><div class='xr-var-attrs'><dl class='xr-attrs'><dt><span>GeoTransform :</span></dt><dd>0.0 1.0 0.0 0.0 0.0 1.0</dd></dl></div><div class='xr-var-data'><pre>array(0)</pre></div></li></ul></div></li><li class='xr-section-item'><input id='section-e167b006-c986-4601-b85a-bbb96a8a9dcd' class='xr-section-summary-in' type='checkbox'  checked><label for='section-e167b006-c986-4601-b85a-bbb96a8a9dcd' class='xr-section-summary' >Data variables: <span>(4)</span></label><div class='xr-section-inline-details'></div><div class='xr-section-details'><ul class='xr-var-list'><li class='xr-var-item'><div class='xr-var-name'><span>Grid_MODIS_GRID_500m_dust</span></div><div class='xr-var-dims'>(band, y, x)</div><div class='xr-var-dtype'>uint16</div><div class='xr-var-preview xr-preview'>...</div><input id='attrs-d8176885-ac7d-47d2-90e9-f972aa9fd5a7' class='xr-var-attrs-in' type='checkbox' ><label for='attrs-d8176885-ac7d-47d2-90e9-f972aa9fd5a7' title='Show/Hide attributes'><svg class='icon xr-icon-file-text2'><use xlink:href='#icon-file-text2'></use></svg></label><input id='data-d38dd712-c5ff-47f9-8f1d-e20698a357c4' class='xr-var-data-in' type='checkbox'><label for='data-d38dd712-c5ff-47f9-8f1d-e20698a357c4' title='Show/Hide data repr'><svg class='icon xr-icon-database'><use xlink:href='#icon-database'></use></svg></label><div class='xr-var-attrs'><dl class='xr-attrs'><dt><span>Grid_MODIS_GRID_500m_dust_divisor :</span></dt><dd>10</dd><dt><span>scale_factor :</span></dt><dd>1.0</dd><dt><span>add_offset :</span></dt><dd>0.0</dd></dl></div><div class='xr-var-data'><pre>[898857204 values with dtype=uint16]</pre></div></li><li class='xr-var-item'><div class='xr-var-name'><span>Grid_MODIS_GRID_500m_grain_size</span></div><div class='xr-var-dims'>(band, y, x)</div><div class='xr-var-dtype'>uint16</div><div class='xr-var-preview xr-preview'>...</div><input id='attrs-4132f130-2079-40b1-91e7-404f34b4d187' class='xr-var-attrs-in' type='checkbox' ><label for='attrs-4132f130-2079-40b1-91e7-404f34b4d187' title='Show/Hide attributes'><svg class='icon xr-icon-file-text2'><use xlink:href='#icon-file-text2'></use></svg></label><input id='data-8adb0709-d3d9-46d0-9868-3b9486af389c' class='xr-var-data-in' type='checkbox'><label for='data-8adb0709-d3d9-46d0-9868-3b9486af389c' title='Show/Hide data repr'><svg class='icon xr-icon-database'><use xlink:href='#icon-database'></use></svg></label><div class='xr-var-attrs'><dl class='xr-attrs'><dt><span>Grid_MODIS_GRID_500m_grain_size_divisor :</span></dt><dd>1</dd><dt><span>scale_factor :</span></dt><dd>1.0</dd><dt><span>add_offset :</span></dt><dd>0.0</dd></dl></div><div class='xr-var-data'><pre>[898857204 values with dtype=uint16]</pre></div></li><li class='xr-var-item'><div class='xr-var-name'><span>Grid_MODIS_GRID_500m_raw_snow_fraction</span></div><div class='xr-var-dims'>(band, y, x)</div><div class='xr-var-dtype'>uint8</div><div class='xr-var-preview xr-preview'>...</div><input id='attrs-a084463c-0902-4331-9613-e9fc627e5ec6' class='xr-var-attrs-in' type='checkbox' ><label for='attrs-a084463c-0902-4331-9613-e9fc627e5ec6' title='Show/Hide attributes'><svg class='icon xr-icon-file-text2'><use xlink:href='#icon-file-text2'></use></svg></label><input id='data-8a260f09-1345-43e0-9a59-d456205c9390' class='xr-var-data-in' type='checkbox'><label for='data-8a260f09-1345-43e0-9a59-d456205c9390' title='Show/Hide data repr'><svg class='icon xr-icon-database'><use xlink:href='#icon-database'></use></svg></label><div class='xr-var-attrs'><dl class='xr-attrs'><dt><span>Grid_MODIS_GRID_500m_raw_snow_fraction_divisor :</span></dt><dd>100</dd><dt><span>scale_factor :</span></dt><dd>1.0</dd><dt><span>add_offset :</span></dt><dd>0.0</dd></dl></div><div class='xr-var-data'><pre>[898857204 values with dtype=uint8]</pre></div></li><li class='xr-var-item'><div class='xr-var-name'><span>Grid_MODIS_GRID_500m_snow_fraction</span></div><div class='xr-var-dims'>(band, y, x)</div><div class='xr-var-dtype'>uint8</div><div class='xr-var-preview xr-preview'>...</div><input id='attrs-ae5ffbb5-f48f-4008-8f6f-f7748c3a6ae2' class='xr-var-attrs-in' type='checkbox' ><label for='attrs-ae5ffbb5-f48f-4008-8f6f-f7748c3a6ae2' title='Show/Hide attributes'><svg class='icon xr-icon-file-text2'><use xlink:href='#icon-file-text2'></use></svg></label><input id='data-c34ea774-d36d-4480-9127-23b8dffa62f1' class='xr-var-data-in' type='checkbox'><label for='data-c34ea774-d36d-4480-9127-23b8dffa62f1' title='Show/Hide data repr'><svg class='icon xr-icon-database'><use xlink:href='#icon-database'></use></svg></label><div class='xr-var-attrs'><dl class='xr-attrs'><dt><span>Grid_MODIS_GRID_500m_snow_fraction_divisor :</span></dt><dd>100</dd><dt><span>scale_factor :</span></dt><dd>1.0</dd><dt><span>add_offset :</span></dt><dd>0.0</dd></dl></div><div class='xr-var-data'><pre>[898857204 values with dtype=uint8]</pre></div></li></ul></div></li><li class='xr-section-item'><input id='section-10535665-a246-47bb-b922-dfb0467e58b0' class='xr-section-summary-in' type='checkbox'  ><label for='section-10535665-a246-47bb-b922-dfb0467e58b0' class='xr-section-summary' >Attributes: <span>(21)</span></label><div class='xr-section-inline-details'></div><div class='xr-section-details'><dl class='xr-attrs'><dt><span>Grid_angleunits :</span></dt><dd>degrees</dd><dt><span>Grid_aspect :</span></dt><dd>normal</dd><dt><span>Grid_falseeasting :</span></dt><dd>0</dd><dt><span>Grid_falsenorthing :</span></dt><dd>-4000000</dd><dt><span>Grid_geoid :</span></dt><dd>6378137 0.0818191908426215 </dd><dt><span>Grid_maplatlimit :</span></dt><dd>-90 90 </dd><dt><span>Grid_maplonlimit :</span></dt><dd>-255 15 </dd><dt><span>Grid_mapparallels :</span></dt><dd>34 40.5 </dd><dt><span>Grid_mapprojection :</span></dt><dd>eqaconicstd</dd><dt><span>Grid_MODIS_GRID_500m_dust_divisor :</span></dt><dd>10</dd><dt><span>Grid_MODIS_GRID_500m_grain_size_divisor :</span></dt><dd>1</dd><dt><span>Grid_MODIS_GRID_500m_raw_snow_fraction_divisor :</span></dt><dd>100</dd><dt><span>Grid_MODIS_GRID_500m_ReferencingMatrix :</span></dt><dd>0 500 -285750 -500 0 500250 </dd><dt><span>Grid_MODIS_GRID_500m_snow_fraction_divisor :</span></dt><dd>100</dd><dt><span>Grid_nparallels :</span></dt><dd>2</dd><dt><span>Grid_origin :</span></dt><dd>0 -120 0 </dd><dt><span>Grid_scalefactor :</span></dt><dd>1</dd><dt><span>Grid_trimlat :</span></dt><dd>-90 90 </dd><dt><span>Grid_trimlon :</span></dt><dd>-135 135 </dd><dt><span>ISOdates :</span></dt><dd>2015274 2015275 2015276 2015277 2015278 2015279 2015280 2015281 2015282 2015283 2015284 2015285 2015286 2015287 2015288 2015289 2015290 2015291 2015292 2015293 2015294 2015295 2015296 2015297 2015298 2015299 2015300 2015301 2015302 2015303 2015304 2015305 2015306 2015307 2015308 2015309 2015310 2015311 2015312 2015313 2015314 2015315 2015316 2015317 2015318 2015319 2015320 2015321 2015322 2015323 2015324 2015325 2015326 2015327 2015328 2015329 2015330 2015331 2015332 2015333 2015334 2015335 2015336 2015337 2015338 2015339 2015340 2015341 2015342 2015343 2015344 2015345 2015346 2015347 2015348 2015349 2015350 2015351 2015352 2015353 2015354 2015355 2015356 2015357 2015358 2015359 2015360 2015361 2015362 2015363 2015364 2015365 2016001 2016002 2016003 2016004 2016005 2016006 2016007 2016008 2016009 2016010 2016011 2016012 2016013 2016014 2016015 2016016 2016017 2016018 2016019 2016020 2016021 2016022 2016023 2016024 2016025 2016026 2016027 2016028 2016029 2016030 2016031 2016032 2016033 2016034 2016035 2016036 2016037 2016038 2016039 2016040 2016041 2016042 2016043 2016044 2016045 2016046 2016047 2016048 2016049 2016050 2016051 2016052 2016053 2016054 2016055 2016056 2016057 2016058 2016059 2016060 2016061 2016062 2016063 2016064 2016065 2016066 2016067 2016068 2016069 2016070 2016071 2016072 2016073 2016074 2016075 2016076 2016077 2016078 2016079 2016080 2016081 2016082 2016083 2016084 2016085 2016086 2016087 2016088 2016089 2016090 2016091 2016092 2016093 2016094 2016095 2016096 2016097 2016098 2016099 2016100 2016101 2016102 2016103 2016104 2016105 2016106 2016107 2016108 2016109 2016110 2016111 2016112 2016113 2016114 2016115 2016116 2016117 2016118 2016119 2016120 2016121 2016122 2016123 2016124 2016125 2016126 2016127 2016128 2016129 2016130 2016131 2016132 2016133 2016134 2016135 2016136 2016137 2016138 2016139 2016140 2016141 2016142 2016143 2016144 2016145 2016146 2016147 2016148 2016149 2016150 2016151 2016152 2016153 2016154 2016155 2016156 2016157 2016158 2016159 2016160 2016161 2016162 2016163 2016164 2016165 2016166 2016167 2016168 2016169 2016170 2016171 2016172 2016173 2016174 2016175 2016176 2016177 2016178 2016179 2016180 2016181 2016182 2016183 2016184 2016185 2016186 2016187 2016188 2016189 2016190 2016191 2016192 2016193 2016194 2016195 2016196 2016197 2016198 2016199 2016200 2016201 2016202 2016203 2016204 2016205 2016206 2016207 2016208 2016209 2016210 2016211 2016212 2016213 2016214 2016215 2016216 2016217 2016218 2016219 2016220 2016221 2016222 2016223 2016224 2016225 2016226 2016227 2016228 2016229 2016230 2016231 2016232 2016233 2016234 2016235 2016236 2016237 2016238 2016239 2016240 2016241 2016242 2016243 2016244 2016245 2016246 2016247 2016248 2016249 2016250 2016251 2016252 2016253 2016254 2016255 2016256 2016257 2016258 2016259 2016260 2016261 2016262 2016263 2016264 2016265 2016266 2016267 2016268 2016269 2016270 2016271 2016272 2016273 2016274 </dd><dt><span>MATLABdates :</span></dt><dd>736238 736239 736240 736241 736242 736243 736244 736245 736246 736247 736248 736249 736250 736251 736252 736253 736254 736255 736256 736257 736258 736259 736260 736261 736262 736263 736264 736265 736266 736267 736268 736269 736270 736271 736272 736273 736274 736275 736276 736277 736278 736279 736280 736281 736282 736283 736284 736285 736286 736287 736288 736289 736290 736291 736292 736293 736294 736295 736296 736297 736298 736299 736300 736301 736302 736303 736304 736305 736306 736307 736308 736309 736310 736311 736312 736313 736314 736315 736316 736317 736318 736319 736320 736321 736322 736323 736324 736325 736326 736327 736328 736329 736330 736331 736332 736333 736334 736335 736336 736337 736338 736339 736340 736341 736342 736343 736344 736345 736346 736347 736348 736349 736350 736351 736352 736353 736354 736355 736356 736357 736358 736359 736360 736361 736362 736363 736364 736365 736366 736367 736368 736369 736370 736371 736372 736373 736374 736375 736376 736377 736378 736379 736380 736381 736382 736383 736384 736385 736386 736387 736388 736389 736390 736391 736392 736393 736394 736395 736396 736397 736398 736399 736400 736401 736402 736403 736404 736405 736406 736407 736408 736409 736410 736411 736412 736413 736414 736415 736416 736417 736418 736419 736420 736421 736422 736423 736424 736425 736426 736427 736428 736429 736430 736431 736432 736433 736434 736435 736436 736437 736438 736439 736440 736441 736442 736443 736444 736445 736446 736447 736448 736449 736450 736451 736452 736453 736454 736455 736456 736457 736458 736459 736460 736461 736462 736463 736464 736465 736466 736467 736468 736469 736470 736471 736472 736473 736474 736475 736476 736477 736478 736479 736480 736481 736482 736483 736484 736485 736486 736487 736488 736489 736490 736491 736492 736493 736494 736495 736496 736497 736498 736499 736500 736501 736502 736503 736504 736505 736506 736507 736508 736509 736510 736511 736512 736513 736514 736515 736516 736517 736518 736519 736520 736521 736522 736523 736524 736525 736526 736527 736528 736529 736530 736531 736532 736533 736534 736535 736536 736537 736538 736539 736540 736541 736542 736543 736544 736545 736546 736547 736548 736549 736550 736551 736552 736553 736554 736555 736556 736557 736558 736559 736560 736561 736562 736563 736564 736565 736566 736567 736568 736569 736570 736571 736572 736573 736574 736575 736576 736577 736578 736579 736580 736581 736582 736583 736584 736585 736586 736587 736588 736589 736590 736591 736592 736593 736594 736595 736596 736597 736598 736599 736600 736601 736602 736603 </dd></dl></div></li></ul></div></div>"
      ],
      "text/plain": [
       "<xarray.Dataset>\n",
       "Dimensions:                                 (y: 1334, x: 1841, band: 366)\n",
       "Coordinates:\n",
       "  * y                                       (y) float64 0.5 1.5 ... 1.334e+03\n",
       "  * x                                       (x) float64 0.5 1.5 ... 1.84e+03\n",
       "  * band                                    (band) int64 1 2 3 4 ... 364 365 366\n",
       "    spatial_ref                             int64 0\n",
       "Data variables:\n",
       "    Grid_MODIS_GRID_500m_dust               (band, y, x) uint16 ...\n",
       "    Grid_MODIS_GRID_500m_grain_size         (band, y, x) uint16 ...\n",
       "    Grid_MODIS_GRID_500m_raw_snow_fraction  (band, y, x) uint8 ...\n",
       "    Grid_MODIS_GRID_500m_snow_fraction      (band, y, x) uint8 ...\n",
       "Attributes: (12/21)\n",
       "    Grid_angleunits:                                 degrees\n",
       "    Grid_aspect:                                     normal\n",
       "    Grid_falseeasting:                               0\n",
       "    Grid_falsenorthing:                              -4000000\n",
       "    Grid_geoid:                                      6378137 0.0818191908426215 \n",
       "    Grid_maplatlimit:                                -90 90 \n",
       "    ...                                              ...\n",
       "    Grid_origin:                                     0 -120 0 \n",
       "    Grid_scalefactor:                                1\n",
       "    Grid_trimlat:                                    -90 90 \n",
       "    Grid_trimlon:                                    -135 135 \n",
       "    ISOdates:                                        2015274 2015275 2015276 ...\n",
       "    MATLABdates:                                     736238 736239 736240 736..."
      ]
     },
     "execution_count": 118,
     "metadata": {},
     "output_type": "execute_result"
    }
   ],
   "source": [
    "sierra2016 = rioxarray.open_rasterio('.data/snow_fraction_data/Sierra2016.h5')\n",
    "sierra2016"
   ]
  },
  {
   "cell_type": "code",
   "execution_count": 119,
   "id": "b2195937-ffb4-429d-adea-2bf433bd04de",
   "metadata": {},
   "outputs": [
    {
     "data": {
      "text/plain": [
       "xarray.core.dataset.Dataset"
      ]
     },
     "execution_count": 119,
     "metadata": {},
     "output_type": "execute_result"
    }
   ],
   "source": [
    "type(sierra2016)"
   ]
  },
  {
   "cell_type": "markdown",
   "id": "2c893b34-fe85-468d-ad47-97acef85d6fb",
   "metadata": {},
   "source": [
    "## Add a CRS <a class=\"anchor\" id=\"crs\"></a>"
   ]
  },
  {
   "cell_type": "code",
   "execution_count": 79,
   "id": "c6329603-38a7-47d5-96d3-34659d131cb3",
   "metadata": {},
   "outputs": [],
   "source": [
    "sierra2017 = rioxarray.open_rasterio('data/snow_fraction_data/Sierra2018.h5',\n",
    "                                    variable=[\"0\"],\n",
    "                                    parse_coordinates=False,)"
   ]
  },
  {
   "cell_type": "code",
   "execution_count": 84,
   "id": "4950bb7d-0f8f-4a3b-8630-28d1572bbb87",
   "metadata": {},
   "outputs": [
    {
     "name": "stdout",
     "output_type": "stream",
     "text": [
      "The CRS of this data is: None\n"
     ]
    }
   ],
   "source": [
    "# This shows that the file does not currently have a crs\n",
    "print(\"The CRS of this data is:\", sierra2017.rio.crs)"
   ]
  },
  {
   "cell_type": "code",
   "execution_count": 85,
   "id": "6af34185-b05b-4aef-b566-475ff19a6517",
   "metadata": {},
   "outputs": [
    {
     "ename": "CRSError",
     "evalue": "Invalid projection: : (Internal Proj Error: proj_create: unrecognized format / unknown name)",
     "output_type": "error",
     "traceback": [
      "\u001b[0;31m---------------------------------------------------------------------------\u001b[0m",
      "\u001b[0;31mCRSError\u001b[0m                                  Traceback (most recent call last)",
      "\u001b[0;32m/var/folders/qv/7n29kf1s2wq2gsqzdzm759f80000gn/T/ipykernel_13377/4284784469.py\u001b[0m in \u001b[0;36m<module>\u001b[0;34m\u001b[0m\n\u001b[1;32m      2\u001b[0m \u001b[0ma_crs\u001b[0m \u001b[0;34m=\u001b[0m \u001b[0msierra2017\u001b[0m\u001b[0;34m.\u001b[0m\u001b[0mrio\u001b[0m\u001b[0;34m.\u001b[0m\u001b[0mcrs\u001b[0m\u001b[0;34m\u001b[0m\u001b[0;34m\u001b[0m\u001b[0m\n\u001b[1;32m      3\u001b[0m \u001b[0;31m# assign crs to object\u001b[0m\u001b[0;34m\u001b[0m\u001b[0;34m\u001b[0m\u001b[0;34m\u001b[0m\u001b[0m\n\u001b[0;32m----> 4\u001b[0;31m \u001b[0msierra2017\u001b[0m \u001b[0;34m=\u001b[0m \u001b[0msierra2017\u001b[0m\u001b[0;34m.\u001b[0m\u001b[0mrio\u001b[0m\u001b[0;34m.\u001b[0m\u001b[0mset_crs\u001b[0m\u001b[0;34m(\u001b[0m\u001b[0ma_crs\u001b[0m\u001b[0;34m,\u001b[0m \u001b[0minplace\u001b[0m\u001b[0;34m=\u001b[0m\u001b[0;32mTrue\u001b[0m\u001b[0;34m)\u001b[0m\u001b[0;34m\u001b[0m\u001b[0;34m\u001b[0m\u001b[0m\n\u001b[0m",
      "\u001b[0;32m~/opt/anaconda3/envs/eds223/lib/python3.8/site-packages/rioxarray/rioxarray.py\u001b[0m in \u001b[0;36mset_crs\u001b[0;34m(self, input_crs, inplace)\u001b[0m\n\u001b[1;32m    311\u001b[0m             \u001b[0mDataset\u001b[0m \u001b[0;32mwith\u001b[0m \u001b[0mcrs\u001b[0m \u001b[0mattribute\u001b[0m\u001b[0;34m.\u001b[0m\u001b[0;34m\u001b[0m\u001b[0;34m\u001b[0m\u001b[0m\n\u001b[1;32m    312\u001b[0m         \"\"\"\n\u001b[0;32m--> 313\u001b[0;31m         \u001b[0mcrs\u001b[0m \u001b[0;34m=\u001b[0m \u001b[0mcrs_from_user_input\u001b[0m\u001b[0;34m(\u001b[0m\u001b[0minput_crs\u001b[0m\u001b[0;34m)\u001b[0m\u001b[0;34m\u001b[0m\u001b[0;34m\u001b[0m\u001b[0m\n\u001b[0m\u001b[1;32m    314\u001b[0m         \u001b[0mobj\u001b[0m \u001b[0;34m=\u001b[0m \u001b[0mself\u001b[0m\u001b[0;34m.\u001b[0m\u001b[0m_get_obj\u001b[0m\u001b[0;34m(\u001b[0m\u001b[0minplace\u001b[0m\u001b[0;34m=\u001b[0m\u001b[0minplace\u001b[0m\u001b[0;34m)\u001b[0m\u001b[0;34m\u001b[0m\u001b[0;34m\u001b[0m\u001b[0m\n\u001b[1;32m    315\u001b[0m         \u001b[0mobj\u001b[0m\u001b[0;34m.\u001b[0m\u001b[0mrio\u001b[0m\u001b[0;34m.\u001b[0m\u001b[0m_crs\u001b[0m \u001b[0;34m=\u001b[0m \u001b[0mcrs\u001b[0m\u001b[0;34m\u001b[0m\u001b[0;34m\u001b[0m\u001b[0m\n",
      "\u001b[0;32m~/opt/anaconda3/envs/eds223/lib/python3.8/site-packages/rioxarray/crs.py\u001b[0m in \u001b[0;36mcrs_from_user_input\u001b[0;34m(crs_input)\u001b[0m\n\u001b[1;32m     39\u001b[0m         \u001b[0;32mpass\u001b[0m\u001b[0;34m\u001b[0m\u001b[0;34m\u001b[0m\u001b[0m\n\u001b[1;32m     40\u001b[0m     \u001b[0;31m# use pyproj for edge cases\u001b[0m\u001b[0;34m\u001b[0m\u001b[0;34m\u001b[0m\u001b[0;34m\u001b[0m\u001b[0m\n\u001b[0;32m---> 41\u001b[0;31m     \u001b[0mcrs\u001b[0m \u001b[0;34m=\u001b[0m \u001b[0mCRS\u001b[0m\u001b[0;34m.\u001b[0m\u001b[0mfrom_user_input\u001b[0m\u001b[0;34m(\u001b[0m\u001b[0mcrs_input\u001b[0m\u001b[0;34m)\u001b[0m\u001b[0;34m\u001b[0m\u001b[0;34m\u001b[0m\u001b[0m\n\u001b[0m\u001b[1;32m     42\u001b[0m     \u001b[0;32mif\u001b[0m \u001b[0mversion\u001b[0m\u001b[0;34m.\u001b[0m\u001b[0mparse\u001b[0m\u001b[0;34m(\u001b[0m\u001b[0mrasterio\u001b[0m\u001b[0;34m.\u001b[0m\u001b[0m__gdal_version__\u001b[0m\u001b[0;34m)\u001b[0m \u001b[0;34m>\u001b[0m \u001b[0mversion\u001b[0m\u001b[0;34m.\u001b[0m\u001b[0mparse\u001b[0m\u001b[0;34m(\u001b[0m\u001b[0;34m\"3.0.0\"\u001b[0m\u001b[0;34m)\u001b[0m\u001b[0;34m:\u001b[0m\u001b[0;34m\u001b[0m\u001b[0;34m\u001b[0m\u001b[0m\n\u001b[1;32m     43\u001b[0m         \u001b[0;32mreturn\u001b[0m \u001b[0mrasterio\u001b[0m\u001b[0;34m.\u001b[0m\u001b[0mcrs\u001b[0m\u001b[0;34m.\u001b[0m\u001b[0mCRS\u001b[0m\u001b[0;34m.\u001b[0m\u001b[0mfrom_wkt\u001b[0m\u001b[0;34m(\u001b[0m\u001b[0mcrs\u001b[0m\u001b[0;34m.\u001b[0m\u001b[0mto_wkt\u001b[0m\u001b[0;34m(\u001b[0m\u001b[0;34m)\u001b[0m\u001b[0;34m)\u001b[0m\u001b[0;34m\u001b[0m\u001b[0;34m\u001b[0m\u001b[0m\n",
      "\u001b[0;32m~/opt/anaconda3/envs/eds223/lib/python3.8/site-packages/pyproj/crs/crs.py\u001b[0m in \u001b[0;36mfrom_user_input\u001b[0;34m(cls, value, **kwargs)\u001b[0m\n\u001b[1;32m    477\u001b[0m         \u001b[0;32mif\u001b[0m \u001b[0misinstance\u001b[0m\u001b[0;34m(\u001b[0m\u001b[0mvalue\u001b[0m\u001b[0;34m,\u001b[0m \u001b[0mcls\u001b[0m\u001b[0;34m)\u001b[0m\u001b[0;34m:\u001b[0m\u001b[0;34m\u001b[0m\u001b[0;34m\u001b[0m\u001b[0m\n\u001b[1;32m    478\u001b[0m             \u001b[0;32mreturn\u001b[0m \u001b[0mvalue\u001b[0m\u001b[0;34m\u001b[0m\u001b[0;34m\u001b[0m\u001b[0m\n\u001b[0;32m--> 479\u001b[0;31m         \u001b[0;32mreturn\u001b[0m \u001b[0mcls\u001b[0m\u001b[0;34m(\u001b[0m\u001b[0mvalue\u001b[0m\u001b[0;34m,\u001b[0m \u001b[0;34m**\u001b[0m\u001b[0mkwargs\u001b[0m\u001b[0;34m)\u001b[0m\u001b[0;34m\u001b[0m\u001b[0;34m\u001b[0m\u001b[0m\n\u001b[0m\u001b[1;32m    480\u001b[0m \u001b[0;34m\u001b[0m\u001b[0m\n\u001b[1;32m    481\u001b[0m     \u001b[0;32mdef\u001b[0m \u001b[0mget_geod\u001b[0m\u001b[0;34m(\u001b[0m\u001b[0mself\u001b[0m\u001b[0;34m)\u001b[0m \u001b[0;34m->\u001b[0m \u001b[0mOptional\u001b[0m\u001b[0;34m[\u001b[0m\u001b[0mGeod\u001b[0m\u001b[0;34m]\u001b[0m\u001b[0;34m:\u001b[0m\u001b[0;34m\u001b[0m\u001b[0;34m\u001b[0m\u001b[0m\n",
      "\u001b[0;32m~/opt/anaconda3/envs/eds223/lib/python3.8/site-packages/pyproj/crs/crs.py\u001b[0m in \u001b[0;36m__init__\u001b[0;34m(self, projparams, **kwargs)\u001b[0m\n\u001b[1;32m    324\u001b[0m             \u001b[0mself\u001b[0m\u001b[0;34m.\u001b[0m\u001b[0m_local\u001b[0m\u001b[0;34m.\u001b[0m\u001b[0mcrs\u001b[0m \u001b[0;34m=\u001b[0m \u001b[0mprojparams\u001b[0m\u001b[0;34m\u001b[0m\u001b[0;34m\u001b[0m\u001b[0m\n\u001b[1;32m    325\u001b[0m         \u001b[0;32melse\u001b[0m\u001b[0;34m:\u001b[0m\u001b[0;34m\u001b[0m\u001b[0;34m\u001b[0m\u001b[0m\n\u001b[0;32m--> 326\u001b[0;31m             \u001b[0mself\u001b[0m\u001b[0;34m.\u001b[0m\u001b[0m_local\u001b[0m\u001b[0;34m.\u001b[0m\u001b[0mcrs\u001b[0m \u001b[0;34m=\u001b[0m \u001b[0m_CRS\u001b[0m\u001b[0;34m(\u001b[0m\u001b[0mself\u001b[0m\u001b[0;34m.\u001b[0m\u001b[0msrs\u001b[0m\u001b[0;34m)\u001b[0m\u001b[0;34m\u001b[0m\u001b[0;34m\u001b[0m\u001b[0m\n\u001b[0m\u001b[1;32m    327\u001b[0m \u001b[0;34m\u001b[0m\u001b[0m\n\u001b[1;32m    328\u001b[0m     \u001b[0;34m@\u001b[0m\u001b[0mproperty\u001b[0m\u001b[0;34m\u001b[0m\u001b[0;34m\u001b[0m\u001b[0m\n",
      "\u001b[0;32mpyproj/_crs.pyx\u001b[0m in \u001b[0;36mpyproj._crs._CRS.__init__\u001b[0;34m()\u001b[0m\n",
      "\u001b[0;31mCRSError\u001b[0m: Invalid projection: : (Internal Proj Error: proj_create: unrecognized format / unknown name)"
     ]
    }
   ],
   "source": [
    "# https://www.earthdatascience.org/courses/use-data-open-source-python/intro-raster-data-python/fundamentals-raster-data/raster-metadata-in-python/\n",
    "a_crs = sierra2017.rio.crs\n",
    "# assign crs to object\n",
    "sierra2017 = sierra2017.rio.set_crs(a_crs, inplace=True)"
   ]
  },
  {
   "cell_type": "code",
   "execution_count": 86,
   "id": "94d41db9-b16d-40a4-8986-0064651128ac",
   "metadata": {},
   "outputs": [
    {
     "name": "stdout",
     "output_type": "stream",
     "text": [
      "['29188', '26733', '24600', '32189', '4899', '29189', '26734', '7402', '26951', '29190']\n"
     ]
    }
   ],
   "source": [
    "print(list(et.epsg.keys())[:10])"
   ]
  },
  {
   "cell_type": "code",
   "execution_count": 87,
   "id": "70474d1f-527a-4f75-a2fc-f6ca4c3ab667",
   "metadata": {},
   "outputs": [
    {
     "name": "stdout",
     "output_type": "stream",
     "text": [
      "+proj=aea +lat_1=34 +lat_2=40.5 +lat_0=0 +lon_0=-120 +x_0=0 +y_0=-4000000 +datum=NAD83 +units=m +no_defs\n"
     ]
    }
   ],
   "source": [
    "proj4 = et.epsg['3310']\n",
    "print(proj4)"
   ]
  },
  {
   "cell_type": "code",
   "execution_count": 88,
   "id": "4ed3c746-cd57-430b-b303-d82a9b3520df",
   "metadata": {},
   "outputs": [
    {
     "name": "stdout",
     "output_type": "stream",
     "text": [
      "The CRS of this data is: EPSG:3310\n"
     ]
    }
   ],
   "source": [
    "sierra2017 = sierra2017.rio.set_crs(proj4, inplace=True)\n",
    "print(\"The CRS of this data is:\", sierra2017.rio.crs)"
   ]
  },
  {
   "cell_type": "code",
   "execution_count": 89,
   "id": "8ccc24a9-6cc6-4029-8db6-f80d57f222eb",
   "metadata": {},
   "outputs": [
    {
     "data": {
      "text/plain": [
       "CRS.from_epsg(3310)"
      ]
     },
     "execution_count": 89,
     "metadata": {},
     "output_type": "execute_result"
    }
   ],
   "source": [
    "sierra2017.rio.crs"
   ]
  },
  {
   "cell_type": "markdown",
   "id": "2d50f451-2ce1-4d35-9a4d-014bdf420ac7",
   "metadata": {},
   "source": [
    "'+proj=aea' is the projection, in this case aea = Albers Equal Area\n",
    "\n",
    "units=m means that the units are meters"
   ]
  },
  {
   "cell_type": "code",
   "execution_count": 90,
   "id": "92696b00-859d-4ba5-baf4-ece8cd9e1b25",
   "metadata": {},
   "outputs": [
    {
     "data": {
      "text/plain": [
       "xarray.core.dataset.Dataset"
      ]
     },
     "execution_count": 90,
     "metadata": {},
     "output_type": "execute_result"
    }
   ],
   "source": [
    "type(sierra2017)"
   ]
  },
  {
   "cell_type": "code",
   "execution_count": null,
   "id": "8ce78c2b-ef73-458a-9445-7127dadab588",
   "metadata": {},
   "outputs": [],
   "source": [
    "transformer = Transformer.from_crs(\"EPSG:4326\", crs_str, always_xy=True)\n",
    "west, north = transformer.transform(rds.WESTBOUNDINGCOORDINATE, rds.NORTHBOUNDINGCOORDINATE)"
   ]
  }
 ],
 "metadata": {
  "kernelspec": {
   "display_name": "Python 3 (ipykernel)",
   "language": "python",
   "name": "python3"
  },
  "language_info": {
   "codemirror_mode": {
    "name": "ipython",
    "version": 3
   },
   "file_extension": ".py",
   "mimetype": "text/x-python",
   "name": "python",
   "nbconvert_exporter": "python",
   "pygments_lexer": "ipython3",
   "version": "3.8.12"
  }
 },
 "nbformat": 4,
 "nbformat_minor": 5
}
